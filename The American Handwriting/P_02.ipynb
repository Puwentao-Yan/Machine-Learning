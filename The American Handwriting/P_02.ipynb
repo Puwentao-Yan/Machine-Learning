{
  "nbformat": 4,
  "nbformat_minor": 0,
  "metadata": {
    "colab": {
      "provenance": [],
      "collapsed_sections": []
    },
    "kernelspec": {
      "name": "python3",
      "display_name": "Python 3"
    },
    "language_info": {
      "name": "python"
    }
  },
  "cells": [
    {
      "cell_type": "markdown",
      "source": [
        "<h1><center>YanP_02</center></h1>\n",
        "\n",
        "\n",
        "<h3 align=\"center\">Oct 22, 2022</h3> "
      ],
      "metadata": {
        "id": "1_S7DlBr28Xc"
      }
    },
    {
      "cell_type": "markdown",
      "source": [
        "0.1  Student: Yan, Puwentao (V00031753)\n",
        "## 1 Problem 1"
      ],
      "metadata": {
        "id": "aISn3bjW3Bi1"
      }
    },
    {
      "cell_type": "code",
      "source": [
        "# installing basic python3 library\n",
        "!pip freeze\n",
        "!pip3 install numpy\n",
        "!pip3 install matplotlib\n",
        "!pip3 install seaborn\n",
        "!pip3 install sklearn\n",
        "!pip3 install keras"
      ],
      "metadata": {
        "colab": {
          "base_uri": "https://localhost:8080/"
        },
        "id": "NJkRoPtn9RfD",
        "outputId": "95a9f51b-7970-468d-9b50-37fb90f4094e"
      },
      "execution_count": 18,
      "outputs": [
        {
          "output_type": "stream",
          "name": "stdout",
          "text": [
            "absl-py==1.3.0\n",
            "aeppl==0.0.33\n",
            "aesara==2.7.9\n",
            "aiohttp==3.8.3\n",
            "aiosignal==1.2.0\n",
            "alabaster==0.7.12\n",
            "albumentations==1.2.1\n",
            "altair==4.2.0\n",
            "appdirs==1.4.4\n",
            "arviz==0.12.1\n",
            "astor==0.8.1\n",
            "astropy==4.3.1\n",
            "astunparse==1.6.3\n",
            "async-timeout==4.0.2\n",
            "asynctest==0.13.0\n",
            "atari-py==0.2.9\n",
            "atomicwrites==1.4.1\n",
            "attrs==22.1.0\n",
            "audioread==3.0.0\n",
            "autograd==1.5\n",
            "Babel==2.10.3\n",
            "backcall==0.2.0\n",
            "beautifulsoup4==4.6.3\n",
            "bleach==5.0.1\n",
            "blis==0.7.9\n",
            "bokeh==2.3.3\n",
            "branca==0.5.0\n",
            "bs4==0.0.1\n",
            "CacheControl==0.12.11\n",
            "cached-property==1.5.2\n",
            "cachetools==4.2.4\n",
            "catalogue==2.0.8\n",
            "certifi==2022.9.24\n",
            "cffi==1.15.1\n",
            "cftime==1.6.2\n",
            "chardet==3.0.4\n",
            "charset-normalizer==2.1.1\n",
            "click==7.1.2\n",
            "clikit==0.6.2\n",
            "cloudpickle==1.5.0\n",
            "cmake==3.22.6\n",
            "cmdstanpy==1.0.8\n",
            "colorcet==3.0.1\n",
            "colorlover==0.3.0\n",
            "community==1.0.0b1\n",
            "confection==0.0.3\n",
            "cons==0.4.5\n",
            "contextlib2==0.5.5\n",
            "convertdate==2.4.0\n",
            "crashtest==0.3.1\n",
            "crcmod==1.7\n",
            "cufflinks==0.17.3\n",
            "cvxopt==1.3.0\n",
            "cvxpy==1.2.1\n",
            "cycler==0.11.0\n",
            "cymem==2.0.7\n",
            "Cython==0.29.32\n",
            "daft==0.0.4\n",
            "dask==2022.2.0\n",
            "datascience==0.17.5\n",
            "debugpy==1.0.0\n",
            "decorator==4.4.2\n",
            "defusedxml==0.7.1\n",
            "descartes==1.1.0\n",
            "dill==0.3.6\n",
            "distributed==2022.2.0\n",
            "dlib==19.24.0\n",
            "dm-tree==0.1.7\n",
            "dnspython==2.2.1\n",
            "docutils==0.17.1\n",
            "dopamine-rl==1.0.5\n",
            "earthengine-api==0.1.329\n",
            "easydict==1.10\n",
            "ecos==2.0.10\n",
            "editdistance==0.5.3\n",
            "en-core-web-sm @ https://github.com/explosion/spacy-models/releases/download/en_core_web_sm-3.4.1/en_core_web_sm-3.4.1-py3-none-any.whl\n",
            "entrypoints==0.4\n",
            "ephem==4.1.3\n",
            "et-xmlfile==1.1.0\n",
            "etils==0.8.0\n",
            "etuples==0.3.8\n",
            "fa2==0.3.5\n",
            "fastai==2.7.9\n",
            "fastcore==1.5.27\n",
            "fastdownload==0.0.7\n",
            "fastdtw==0.3.4\n",
            "fastjsonschema==2.16.2\n",
            "fastprogress==1.0.3\n",
            "fastrlock==0.8\n",
            "feather-format==0.4.1\n",
            "filelock==3.8.0\n",
            "firebase-admin==4.4.0\n",
            "fix-yahoo-finance==0.0.22\n",
            "Flask==1.1.4\n",
            "flatbuffers==1.12\n",
            "folium==0.12.1.post1\n",
            "frozenlist==1.3.1\n",
            "fsspec==2022.10.0\n",
            "future==0.16.0\n",
            "gast==0.4.0\n",
            "GDAL==2.2.2\n",
            "gdown==4.4.0\n",
            "gensim==3.6.0\n",
            "geographiclib==1.52\n",
            "geopy==1.17.0\n",
            "gin-config==0.5.0\n",
            "glob2==0.7\n",
            "google==2.0.3\n",
            "google-api-core==1.31.6\n",
            "google-api-python-client==1.12.11\n",
            "google-auth==1.35.0\n",
            "google-auth-httplib2==0.0.4\n",
            "google-auth-oauthlib==0.4.6\n",
            "google-cloud-bigquery==1.21.0\n",
            "google-cloud-bigquery-storage==1.1.2\n",
            "google-cloud-core==1.0.3\n",
            "google-cloud-datastore==1.8.0\n",
            "google-cloud-firestore==1.7.0\n",
            "google-cloud-language==1.2.0\n",
            "google-cloud-storage==1.18.1\n",
            "google-cloud-translate==1.5.0\n",
            "google-colab @ file:///colabtools/dist/google-colab-1.0.0.tar.gz\n",
            "google-pasta==0.2.0\n",
            "google-resumable-media==0.4.1\n",
            "googleapis-common-protos==1.56.4\n",
            "googledrivedownloader==0.4\n",
            "graphviz==0.10.1\n",
            "greenlet==1.1.3.post0\n",
            "grpcio==1.50.0\n",
            "gspread==3.4.2\n",
            "gspread-dataframe==3.0.8\n",
            "gym==0.25.2\n",
            "gym-notices==0.0.8\n",
            "h5py==3.1.0\n",
            "HeapDict==1.0.1\n",
            "hijri-converter==2.2.4\n",
            "holidays==0.16\n",
            "holoviews==1.14.9\n",
            "html5lib==1.0.1\n",
            "httpimport==0.5.18\n",
            "httplib2==0.17.4\n",
            "httplib2shim==0.0.3\n",
            "httpstan==4.6.1\n",
            "humanize==0.5.1\n",
            "hyperopt==0.1.2\n",
            "idna==2.10\n",
            "imageio==2.9.0\n",
            "imagesize==1.4.1\n",
            "imbalanced-learn==0.8.1\n",
            "imblearn==0.0\n",
            "imgaug==0.4.0\n",
            "importlib-metadata==4.13.0\n",
            "importlib-resources==5.10.0\n",
            "imutils==0.5.4\n",
            "inflect==2.1.0\n",
            "intel-openmp==2022.2.0\n",
            "intervaltree==2.1.0\n",
            "ipykernel==5.3.4\n",
            "ipython==7.9.0\n",
            "ipython-genutils==0.2.0\n",
            "ipython-sql==0.3.9\n",
            "ipywidgets==7.7.1\n",
            "itsdangerous==1.1.0\n",
            "jax==0.3.23\n",
            "jaxlib @ https://storage.googleapis.com/jax-releases/cuda11/jaxlib-0.3.22+cuda11.cudnn805-cp37-cp37m-manylinux2014_x86_64.whl\n",
            "jieba==0.42.1\n",
            "Jinja2==2.11.3\n",
            "joblib==1.2.0\n",
            "jpeg4py==0.1.4\n",
            "jsonschema==4.3.3\n",
            "jupyter-client==6.1.12\n",
            "jupyter-console==6.1.0\n",
            "jupyter-core==4.11.2\n",
            "jupyterlab-widgets==3.0.3\n",
            "kaggle==1.5.12\n",
            "kapre==0.3.7\n",
            "keras==2.9.0\n",
            "Keras-Preprocessing==1.1.2\n",
            "keras-vis==0.4.1\n",
            "kiwisolver==1.4.4\n",
            "korean-lunar-calendar==0.3.1\n",
            "langcodes==3.3.0\n",
            "libclang==14.0.6\n",
            "librosa==0.8.1\n",
            "lightgbm==2.2.3\n",
            "llvmlite==0.39.1\n",
            "lmdb==0.99\n",
            "locket==1.0.0\n",
            "logical-unification==0.4.5\n",
            "LunarCalendar==0.0.9\n",
            "lxml==4.9.1\n",
            "Markdown==3.4.1\n",
            "MarkupSafe==2.0.1\n",
            "marshmallow==3.18.0\n",
            "matplotlib==3.2.2\n",
            "matplotlib-venn==0.11.7\n",
            "miniKanren==1.0.3\n",
            "missingno==0.5.1\n",
            "mistune==0.8.4\n",
            "mizani==0.7.3\n",
            "mkl==2019.0\n",
            "mlxtend==0.14.0\n",
            "more-itertools==9.0.0\n",
            "moviepy==0.2.3.5\n",
            "mpmath==1.2.1\n",
            "msgpack==1.0.4\n",
            "multidict==6.0.2\n",
            "multipledispatch==0.6.0\n",
            "multitasking==0.0.11\n",
            "murmurhash==1.0.9\n",
            "music21==5.5.0\n",
            "natsort==5.5.0\n",
            "nbconvert==5.6.1\n",
            "nbformat==5.7.0\n",
            "netCDF4==1.6.1\n",
            "networkx==2.6.3\n",
            "nibabel==3.0.2\n",
            "nltk==3.7\n",
            "notebook==5.5.0\n",
            "numba==0.56.3\n",
            "numexpr==2.8.4\n",
            "numpy==1.21.6\n",
            "oauth2client==4.1.3\n",
            "oauthlib==3.2.2\n",
            "okgrade==0.4.3\n",
            "opencv-contrib-python==4.6.0.66\n",
            "opencv-python==4.6.0.66\n",
            "opencv-python-headless==4.6.0.66\n",
            "openpyxl==3.0.10\n",
            "opt-einsum==3.3.0\n",
            "osqp==0.6.2.post0\n",
            "packaging==21.3\n",
            "palettable==3.3.0\n",
            "pandas==1.3.5\n",
            "pandas-datareader==0.9.0\n",
            "pandas-gbq==0.13.3\n",
            "pandas-profiling==1.4.1\n",
            "pandocfilters==1.5.0\n",
            "panel==0.12.1\n",
            "param==1.12.2\n",
            "parso==0.8.3\n",
            "partd==1.3.0\n",
            "pastel==0.2.1\n",
            "pathlib==1.0.1\n",
            "pathy==0.6.2\n",
            "patsy==0.5.3\n",
            "pep517==0.13.0\n",
            "pexpect==4.8.0\n",
            "pickleshare==0.7.5\n",
            "Pillow==7.1.2\n",
            "pip-tools==6.2.0\n",
            "plotly==5.5.0\n",
            "plotnine==0.8.0\n",
            "pluggy==0.7.1\n",
            "pooch==1.6.0\n",
            "portpicker==1.3.9\n",
            "prefetch-generator==1.0.1\n",
            "preshed==3.0.8\n",
            "prettytable==3.4.1\n",
            "progressbar2==3.38.0\n",
            "promise==2.3\n",
            "prompt-toolkit==2.0.10\n",
            "prophet==1.1.1\n",
            "protobuf==3.17.3\n",
            "psutil==5.4.8\n",
            "psycopg2==2.9.5\n",
            "ptyprocess==0.7.0\n",
            "py==1.11.0\n",
            "pyarrow==6.0.1\n",
            "pyasn1==0.4.8\n",
            "pyasn1-modules==0.2.8\n",
            "pycocotools==2.0.5\n",
            "pycparser==2.21\n",
            "pyct==0.4.8\n",
            "pydantic==1.10.2\n",
            "pydata-google-auth==1.4.0\n",
            "pydot==1.3.0\n",
            "pydot-ng==2.0.0\n",
            "pydotplus==2.0.2\n",
            "PyDrive==1.3.1\n",
            "pyemd==0.5.1\n",
            "pyerfa==2.0.0.1\n",
            "Pygments==2.6.1\n",
            "pygobject==3.26.1\n",
            "pylev==1.4.0\n",
            "pymc==4.1.4\n",
            "PyMeeus==0.5.11\n",
            "pymongo==4.3.2\n",
            "pymystem3==0.2.0\n",
            "PyOpenGL==3.1.6\n",
            "pyparsing==3.0.9\n",
            "pyrsistent==0.18.1\n",
            "pysimdjson==3.2.0\n",
            "pysndfile==1.3.8\n",
            "PySocks==1.7.1\n",
            "pystan==3.3.0\n",
            "pytest==3.6.4\n",
            "python-apt==0.0.0\n",
            "python-dateutil==2.8.2\n",
            "python-louvain==0.16\n",
            "python-slugify==6.1.2\n",
            "python-utils==3.3.3\n",
            "pytz==2022.5\n",
            "pyviz-comms==2.2.1\n",
            "PyWavelets==1.3.0\n",
            "PyYAML==6.0\n",
            "pyzmq==23.2.1\n",
            "qdldl==0.1.5.post2\n",
            "qudida==0.0.4\n",
            "regex==2022.6.2\n",
            "requests==2.23.0\n",
            "requests-oauthlib==1.3.1\n",
            "resampy==0.4.2\n",
            "rpy2==3.5.5\n",
            "rsa==4.9\n",
            "scikit-image==0.18.3\n",
            "scikit-learn==1.0.2\n",
            "scipy==1.7.3\n",
            "screen-resolution-extra==0.0.0\n",
            "scs==3.2.0\n",
            "seaborn==0.11.2\n",
            "Send2Trash==1.8.0\n",
            "setuptools-git==1.2\n",
            "Shapely==1.8.5.post1\n",
            "six==1.15.0\n",
            "sklearn==0.0\n",
            "sklearn-pandas==1.8.0\n",
            "smart-open==5.2.1\n",
            "snowballstemmer==2.2.0\n",
            "sortedcontainers==2.4.0\n",
            "soundfile==0.11.0\n",
            "spacy==3.4.2\n",
            "spacy-legacy==3.0.10\n",
            "spacy-loggers==1.0.3\n",
            "Sphinx==1.8.6\n",
            "sphinxcontrib-serializinghtml==1.1.5\n",
            "sphinxcontrib-websupport==1.2.4\n",
            "SQLAlchemy==1.4.42\n",
            "sqlparse==0.4.3\n",
            "srsly==2.4.5\n",
            "statsmodels==0.12.2\n",
            "sympy==1.7.1\n",
            "tables==3.7.0\n",
            "tabulate==0.8.10\n",
            "tblib==1.7.0\n",
            "tenacity==8.1.0\n",
            "tensorboard==2.9.1\n",
            "tensorboard-data-server==0.6.1\n",
            "tensorboard-plugin-wit==1.8.1\n",
            "tensorflow==2.9.2\n",
            "tensorflow-datasets==4.6.0\n",
            "tensorflow-estimator==2.9.0\n",
            "tensorflow-gcs-config==2.9.1\n",
            "tensorflow-hub==0.12.0\n",
            "tensorflow-io-gcs-filesystem==0.27.0\n",
            "tensorflow-metadata==1.10.0\n",
            "tensorflow-probability==0.16.0\n",
            "termcolor==2.0.1\n",
            "terminado==0.13.3\n",
            "testpath==0.6.0\n",
            "text-unidecode==1.3\n",
            "textblob==0.15.3\n",
            "thinc==8.1.5\n",
            "threadpoolctl==3.1.0\n",
            "tifffile==2021.11.2\n",
            "toml==0.10.2\n",
            "tomli==2.0.1\n",
            "toolz==0.12.0\n",
            "torch @ https://download.pytorch.org/whl/cu113/torch-1.12.1%2Bcu113-cp37-cp37m-linux_x86_64.whl\n",
            "torchaudio @ https://download.pytorch.org/whl/cu113/torchaudio-0.12.1%2Bcu113-cp37-cp37m-linux_x86_64.whl\n",
            "torchsummary==1.5.1\n",
            "torchtext==0.13.1\n",
            "torchvision @ https://download.pytorch.org/whl/cu113/torchvision-0.13.1%2Bcu113-cp37-cp37m-linux_x86_64.whl\n",
            "tornado==5.1.1\n",
            "tqdm==4.64.1\n",
            "traitlets==5.1.1\n",
            "tweepy==3.10.0\n",
            "typeguard==2.7.1\n",
            "typer==0.4.2\n",
            "typing-extensions==4.1.1\n",
            "tzlocal==1.5.1\n",
            "uritemplate==3.0.1\n",
            "urllib3==1.24.3\n",
            "vega-datasets==0.9.0\n",
            "wasabi==0.10.1\n",
            "wcwidth==0.2.5\n",
            "webargs==8.2.0\n",
            "webencodings==0.5.1\n",
            "Werkzeug==1.0.1\n",
            "widgetsnbextension==3.6.1\n",
            "wordcloud==1.8.2.2\n",
            "wrapt==1.14.1\n",
            "xarray==0.20.2\n",
            "xarray-einstats==0.2.2\n",
            "xgboost==0.90\n",
            "xkit==0.0.0\n",
            "xlrd==1.1.0\n",
            "xlwt==1.3.0\n",
            "yarl==1.8.1\n",
            "yellowbrick==1.5\n",
            "zict==2.2.0\n",
            "zipp==3.10.0\n",
            "Looking in indexes: https://pypi.org/simple, https://us-python.pkg.dev/colab-wheels/public/simple/\n",
            "Requirement already satisfied: numpy in /usr/local/lib/python3.7/dist-packages (1.21.6)\n",
            "Looking in indexes: https://pypi.org/simple, https://us-python.pkg.dev/colab-wheels/public/simple/\n",
            "Requirement already satisfied: matplotlib in /usr/local/lib/python3.7/dist-packages (3.2.2)\n",
            "Requirement already satisfied: python-dateutil>=2.1 in /usr/local/lib/python3.7/dist-packages (from matplotlib) (2.8.2)\n",
            "Requirement already satisfied: pyparsing!=2.0.4,!=2.1.2,!=2.1.6,>=2.0.1 in /usr/local/lib/python3.7/dist-packages (from matplotlib) (3.0.9)\n",
            "Requirement already satisfied: numpy>=1.11 in /usr/local/lib/python3.7/dist-packages (from matplotlib) (1.21.6)\n",
            "Requirement already satisfied: kiwisolver>=1.0.1 in /usr/local/lib/python3.7/dist-packages (from matplotlib) (1.4.4)\n",
            "Requirement already satisfied: cycler>=0.10 in /usr/local/lib/python3.7/dist-packages (from matplotlib) (0.11.0)\n",
            "Requirement already satisfied: typing-extensions in /usr/local/lib/python3.7/dist-packages (from kiwisolver>=1.0.1->matplotlib) (4.1.1)\n",
            "Requirement already satisfied: six>=1.5 in /usr/local/lib/python3.7/dist-packages (from python-dateutil>=2.1->matplotlib) (1.15.0)\n",
            "Looking in indexes: https://pypi.org/simple, https://us-python.pkg.dev/colab-wheels/public/simple/\n",
            "Requirement already satisfied: seaborn in /usr/local/lib/python3.7/dist-packages (0.11.2)\n",
            "Requirement already satisfied: numpy>=1.15 in /usr/local/lib/python3.7/dist-packages (from seaborn) (1.21.6)\n",
            "Requirement already satisfied: pandas>=0.23 in /usr/local/lib/python3.7/dist-packages (from seaborn) (1.3.5)\n",
            "Requirement already satisfied: scipy>=1.0 in /usr/local/lib/python3.7/dist-packages (from seaborn) (1.7.3)\n",
            "Requirement already satisfied: matplotlib>=2.2 in /usr/local/lib/python3.7/dist-packages (from seaborn) (3.2.2)\n",
            "Requirement already satisfied: kiwisolver>=1.0.1 in /usr/local/lib/python3.7/dist-packages (from matplotlib>=2.2->seaborn) (1.4.4)\n",
            "Requirement already satisfied: cycler>=0.10 in /usr/local/lib/python3.7/dist-packages (from matplotlib>=2.2->seaborn) (0.11.0)\n",
            "Requirement already satisfied: python-dateutil>=2.1 in /usr/local/lib/python3.7/dist-packages (from matplotlib>=2.2->seaborn) (2.8.2)\n",
            "Requirement already satisfied: pyparsing!=2.0.4,!=2.1.2,!=2.1.6,>=2.0.1 in /usr/local/lib/python3.7/dist-packages (from matplotlib>=2.2->seaborn) (3.0.9)\n",
            "Requirement already satisfied: typing-extensions in /usr/local/lib/python3.7/dist-packages (from kiwisolver>=1.0.1->matplotlib>=2.2->seaborn) (4.1.1)\n",
            "Requirement already satisfied: pytz>=2017.3 in /usr/local/lib/python3.7/dist-packages (from pandas>=0.23->seaborn) (2022.5)\n",
            "Requirement already satisfied: six>=1.5 in /usr/local/lib/python3.7/dist-packages (from python-dateutil>=2.1->matplotlib>=2.2->seaborn) (1.15.0)\n",
            "Looking in indexes: https://pypi.org/simple, https://us-python.pkg.dev/colab-wheels/public/simple/\n",
            "Requirement already satisfied: sklearn in /usr/local/lib/python3.7/dist-packages (0.0)\n",
            "Requirement already satisfied: scikit-learn in /usr/local/lib/python3.7/dist-packages (from sklearn) (1.0.2)\n",
            "Requirement already satisfied: joblib>=0.11 in /usr/local/lib/python3.7/dist-packages (from scikit-learn->sklearn) (1.2.0)\n",
            "Requirement already satisfied: scipy>=1.1.0 in /usr/local/lib/python3.7/dist-packages (from scikit-learn->sklearn) (1.7.3)\n",
            "Requirement already satisfied: threadpoolctl>=2.0.0 in /usr/local/lib/python3.7/dist-packages (from scikit-learn->sklearn) (3.1.0)\n",
            "Requirement already satisfied: numpy>=1.14.6 in /usr/local/lib/python3.7/dist-packages (from scikit-learn->sklearn) (1.21.6)\n",
            "Looking in indexes: https://pypi.org/simple, https://us-python.pkg.dev/colab-wheels/public/simple/\n",
            "Requirement already satisfied: keras in /usr/local/lib/python3.7/dist-packages (2.9.0)\n"
          ]
        }
      ]
    },
    {
      "cell_type": "code",
      "source": [
        "import numpy as np\n",
        "import seaborn as sns\n",
        "from sklearn.svm import SVC, LinearSVC\n",
        "from sklearn.metrics import confusion_matrix\n",
        "from keras.datasets import mnist\n",
        "from matplotlib import pyplot as plt\n",
        "from sklearn.model_selection import cross_val_score,StratifiedKFold"
      ],
      "metadata": {
        "id": "AZi7kAoO3Il2"
      },
      "execution_count": 19,
      "outputs": []
    },
    {
      "cell_type": "markdown",
      "source": [
        "1. Hard"
      ],
      "metadata": {
        "id": "SDRvQQ-k3Gaz"
      }
    },
    {
      "cell_type": "code",
      "source": [
        "# load data\n",
        "(train_X, train_y), (test_X, test_y) = mnist.load_data()\n",
        "train_index = np.where((train_y == 1 ) | (train_y == 7))\n",
        "test_index = np.where((test_y == 1) | (test_y == 7))\n",
        "train_X, train_y = train_X[train_index].reshape(13007, 784), train_y[train_index]\n",
        "test_X, test_y = test_X[test_index].reshape(2163, 784), test_y[test_index]\n",
        "np.random.seed(1337)"
      ],
      "metadata": {
        "id": "bfdR5uteFaT1"
      },
      "execution_count": 20,
      "outputs": []
    },
    {
      "cell_type": "code",
      "source": [
        "model = SVC(kernel='linear', C=float(\"inf\")) # when C is inf, ζ = 0 ==> hard-margin SVM\n",
        "model.fit(train_X,train_y)\n",
        "scoretrain = model.score(train_X,train_y)\n",
        "scoretest  = model.score(test_X,test_y)\n",
        "print(\"Hard-margin SVM value of C: inf, training score :{:2f} , Test Score: {:2f} \\n\".format(scoretrain, scoretest))\n",
        "\n",
        "# create confusion matrix of training and test errors\n",
        "predicts = model.predict(test_X)\n",
        "confusion_matr = confusion_matrix(test_y, predicts)\n",
        "plt.figure(figsize = (16, 9))\n",
        "sns.heatmap(confusion_matr/np.sum(confusion_matr), fmt='.2%', cmap=\"Blues\", annot=True, xticklabels=[1,7], yticklabels=[1,7]);\n",
        "plt.savefig(\"conf matrix\")"
      ],
      "metadata": {
        "colab": {
          "base_uri": "https://localhost:8080/",
          "height": 573
        },
        "id": "Uyajl6SzK3Rc",
        "outputId": "b4e3dcce-de0c-4ad5-ca38-0bc854b6892f"
      },
      "execution_count": 21,
      "outputs": [
        {
          "output_type": "stream",
          "name": "stdout",
          "text": [
            "Hard-margin SVM value of C: inf, training score :1.000000 , Test Score: 0.991678 \n",
            "\n"
          ]
        },
        {
          "output_type": "display_data",
          "data": {
            "text/plain": [
              "<Figure size 1152x648 with 2 Axes>"
            ],
            "image/png": "[encoded data removed]"
          },
          "metadata": {
            "needs_background": "light"
          }
        }
      ]
    },
    {
      "cell_type": "markdown",
      "source": [
        "Summary:\n",
        "\n",
        "It can be done and the result is very good. The accuracy of training set is 1 and The accuracy of testing set is 0.991678."
      ],
      "metadata": {
        "id": "AouOlnZ2inDe"
      }
    },
    {
      "cell_type": "markdown",
      "source": [
        "2. Soft"
      ],
      "metadata": {
        "id": "Ln6kOWzmjyM1"
      }
    },
    {
      "cell_type": "code",
      "source": [
        "# Set model to obtain the Cross Validation Score\n",
        "model = SVC(kernel='linear', C=20)\n",
        "model.fit(train_X,train_y)\n",
        "scores = cross_val_score(model, train_X, train_y, cv=5)\n",
        "strat_scores = cross_val_score(model, train_X, train_y, cv=StratifiedKFold(5,random_state=10,shuffle=True))\n",
        "print(\"The Cross Validation Score :\"+str(scores))"
      ],
      "metadata": {
        "colab": {
          "base_uri": "https://localhost:8080/"
        },
        "id": "f66LoGgrj4q4",
        "outputId": "3a1a4eca-3471-4d67-80ab-680a8013eea6"
      },
      "execution_count": 22,
      "outputs": [
        {
          "output_type": "stream",
          "name": "stdout",
          "text": [
            "The Cross Validation Score :[0.99538816 0.99385088 0.99423299 0.99384852 0.99423299]\n"
          ]
        }
      ]
    },
    {
      "cell_type": "code",
      "source": [
        "# build model based on the Cross Validation Score\n",
        "model = SVC(kernel='linear', C=scores.mean())\n",
        "model.fit(train_X,train_y)\n",
        "scoretrain = model.score(train_X,train_y)\n",
        "scoretest  = model.score(test_X,test_y)\n",
        "print(\"Soft-margin SVM value of C: {}, training score :{:2f} , Test Score: {:2f} \\n\".format(scores.mean(), scoretrain, scoretest))\n",
        "\n",
        "# create confusion matrix of training and test errors\n",
        "predicts = model.predict(test_X)\n",
        "confusion_matr = confusion_matrix(test_y, predicts)\n",
        "plt.figure(figsize = (16, 9))\n",
        "sns.heatmap(confusion_matr/np.sum(confusion_matr), fmt='.2%', cmap=\"Blues\", annot=True, xticklabels=[1,7], yticklabels=[1,7]);\n",
        "plt.savefig(\"conf matrix\")"
      ],
      "metadata": {
        "colab": {
          "base_uri": "https://localhost:8080/",
          "height": 573
        },
        "id": "aE6-tX7OtYbx",
        "outputId": "a5195054-6598-489b-e4db-765a50a958ce"
      },
      "execution_count": 23,
      "outputs": [
        {
          "output_type": "stream",
          "name": "stdout",
          "text": [
            "Soft-margin SVM value of C: 0.9943107082624463, training score :1.000000 , Test Score: 0.991678 \n",
            "\n"
          ]
        },
        {
          "output_type": "display_data",
          "data": {
            "text/plain": [
              "<Figure size 1152x648 with 2 Axes>"
            ],
            "image/png": "[encoded data removed]"
          },
          "metadata": {
            "needs_background": "light"
          }
        }
      ]
    },
    {
      "cell_type": "markdown",
      "source": [
        "Summary:\n",
        "\n",
        "Yes, I did achieve better results. Soft-margin SVM with the best value of C has higher accuracy than the hard-margin SVM."
      ],
      "metadata": {
        "id": "-24MbEwduxiD"
      }
    },
    {
      "cell_type": "markdown",
      "source": [
        "3. Kernel"
      ],
      "metadata": {
        "id": "dDrATaDMvNFF"
      }
    },
    {
      "cell_type": "markdown",
      "source": [
        "3.1 (a)"
      ],
      "metadata": {
        "id": "lJmPaWQjyapk"
      }
    },
    {
      "cell_type": "code",
      "source": [
        "# test different values of degree\n",
        "for i in [1, 3, 5, 7, 9]:\n",
        "  model = SVC(kernel='poly', degree=i, C=scores.mean())\n",
        "  model.fit(train_X,train_y)\n",
        "  scoretrain = model.score(train_X,train_y)\n",
        "  scoretest  = model.score(test_X,test_y)\n",
        "  print(\"SVM value of C: {}, training score :{:2f} , Test Score: {:2f} \\n\".format(scores.mean(), scoretrain, scoretest))"
      ],
      "metadata": {
        "colab": {
          "base_uri": "https://localhost:8080/"
        },
        "id": "6TMGH8YDvPgd",
        "outputId": "9843ce16-3117-4cc6-ad86-1ed817ea243e"
      },
      "execution_count": 24,
      "outputs": [
        {
          "output_type": "stream",
          "name": "stdout",
          "text": [
            "SVM value of C: 0.9943107082624463, training score :0.996233 , Test Score: 0.992603 \n",
            "\n",
            "SVM value of C: 0.9943107082624463, training score :0.998232 , Test Score: 0.993990 \n",
            "\n",
            "SVM value of C: 0.9943107082624463, training score :0.995233 , Test Score: 0.987517 \n",
            "\n",
            "SVM value of C: 0.9943107082624463, training score :0.984316 , Test Score: 0.971336 \n",
            "\n",
            "SVM value of C: 0.9943107082624463, training score :0.968402 , Test Score: 0.954693 \n",
            "\n"
          ]
        }
      ]
    },
    {
      "cell_type": "markdown",
      "source": [
        "3.2 (b)"
      ],
      "metadata": {
        "id": "H_uULcIazZHD"
      }
    },
    {
      "cell_type": "code",
      "source": [
        "# Gaussian kernel\n",
        "model = SVC(kernel='rbf', C=scores.mean())\n",
        "model.fit(train_X,train_y)\n",
        "scoretrain = model.score(train_X,train_y)\n",
        "scoretest  = model.score(test_X,test_y)\n",
        "print(\"SVM value of C: {}, training score :{:2f} , Test Score: {:2f} \\n\".format(scores.mean(), scoretrain, scoretest))"
      ],
      "metadata": {
        "colab": {
          "base_uri": "https://localhost:8080/"
        },
        "id": "r3LiCpjazcKj",
        "outputId": "e08c0b79-e922-4f4a-b683-aefffbe187a5"
      },
      "execution_count": 25,
      "outputs": [
        {
          "output_type": "stream",
          "name": "stdout",
          "text": [
            "SVM value of C: 0.9943107082624463, training score :0.997924 , Test Score: 0.997226 \n",
            "\n"
          ]
        }
      ]
    },
    {
      "cell_type": "markdown",
      "source": [
        "3.3 (c)"
      ],
      "metadata": {
        "id": "LPPGVsP0zcUz"
      }
    },
    {
      "cell_type": "code",
      "source": [
        "# linear kernel\n",
        "model = SVC(kernel='linear', C=scores.mean())\n",
        "model.fit(train_X,train_y)\n",
        "scoretrain = model.score(train_X,train_y)\n",
        "scoretest  = model.score(test_X,test_y)\n",
        "print(\"SVM value of C: {}, training score :{:2f} , Test Score: {:2f} \\n\".format(scores.mean(), scoretrain, scoretest))"
      ],
      "metadata": {
        "colab": {
          "base_uri": "https://localhost:8080/"
        },
        "id": "NgEA2Jrmzd5l",
        "outputId": "420e2f41-057c-4aec-bdc6-00ad0519fa80"
      },
      "execution_count": 26,
      "outputs": [
        {
          "output_type": "stream",
          "name": "stdout",
          "text": [
            "SVM value of C: 0.9943107082624463, training score :1.000000 , Test Score: 0.991678 \n",
            "\n"
          ]
        }
      ]
    },
    {
      "cell_type": "markdown",
      "source": [
        "Summary:\n",
        "\n",
        "Gaussian kernel with the best soft-margin model is the best. The accuracy of training set is 0.997924 and The accuracy of testing set is 0.997226."
      ],
      "metadata": {
        "id": "jW3j-J2m9icO"
      }
    }
  ]
}