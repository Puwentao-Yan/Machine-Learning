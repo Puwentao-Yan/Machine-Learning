{
  "nbformat": 4,
  "nbformat_minor": 0,
  "metadata": {
    "colab": {
      "provenance": [],
      "collapsed_sections": []
    },
    "kernelspec": {
      "name": "python3",
      "display_name": "Python 3"
    },
    "language_info": {
      "name": "python"
    }
  },
  "cells": [
    {
      "cell_type": "markdown",
      "source": [
        "<h1><center>YanP_01</center></h1>\n",
        "\n",
        "\n",
        "<h3 align=\"center\">Oct 9, 2022</h3> \n"
      ],
      "metadata": {
        "id": "DLr54SE0g2Zy"
      }
    },
    {
      "cell_type": "markdown",
      "source": [
        "0.1  Student: Yan, Puwentao (V00031753)\n",
        "## 1 Problem 1"
      ],
      "metadata": {
        "id": "Hi8KHo7WHkF7"
      }
    },
    {
      "cell_type": "code",
      "source": [
        "# installing basic python3 library\n",
        "!pip freeze\n",
        "!pip3 install numpy\n",
        "!pip3 install pandas\n",
        "!pip3 install matplotlib\n",
        "!pip3 install pydotplus\n",
        "!pip3 install six"
      ],
      "metadata": {
        "colab": {
          "base_uri": "https://localhost:8080/"
        },
        "id": "aeyEtcXo4vH_",
        "outputId": "100bc897-ade6-49ac-aa35-67a7807b7622"
      },
      "execution_count": 26,
      "outputs": [
        {
          "output_type": "stream",
          "name": "stdout",
          "text": [
            "absl-py==1.2.0\n",
            "aeppl==0.0.33\n",
            "aesara==2.7.9\n",
            "aiohttp==3.8.3\n",
            "aiosignal==1.2.0\n",
            "alabaster==0.7.12\n",
            "albumentations==1.2.1\n",
            "altair==4.2.0\n",
            "appdirs==1.4.4\n",
            "arviz==0.12.1\n",
            "astor==0.8.1\n",
            "astropy==4.3.1\n",
            "astunparse==1.6.3\n",
            "async-timeout==4.0.2\n",
            "asynctest==0.13.0\n",
            "atari-py==0.2.9\n",
            "atomicwrites==1.4.1\n",
            "attrs==22.1.0\n",
            "audioread==3.0.0\n",
            "autograd==1.5\n",
            "Babel==2.10.3\n",
            "backcall==0.2.0\n",
            "beautifulsoup4==4.6.3\n",
            "bleach==5.0.1\n",
            "blis==0.7.8\n",
            "bokeh==2.3.3\n",
            "branca==0.5.0\n",
            "bs4==0.0.1\n",
            "CacheControl==0.12.11\n",
            "cached-property==1.5.2\n",
            "cachetools==4.2.4\n",
            "catalogue==2.0.8\n",
            "certifi==2022.9.24\n",
            "cffi==1.15.1\n",
            "cftime==1.6.2\n",
            "chardet==3.0.4\n",
            "charset-normalizer==2.1.1\n",
            "click==7.1.2\n",
            "clikit==0.6.2\n",
            "cloudpickle==1.5.0\n",
            "cmake==3.22.6\n",
            "cmdstanpy==1.0.7\n",
            "colorcet==3.0.1\n",
            "colorlover==0.3.0\n",
            "community==1.0.0b1\n",
            "confection==0.0.2\n",
            "cons==0.4.5\n",
            "contextlib2==0.5.5\n",
            "convertdate==2.4.0\n",
            "crashtest==0.3.1\n",
            "crcmod==1.7\n",
            "cufflinks==0.17.3\n",
            "cvxopt==1.3.0\n",
            "cvxpy==1.2.1\n",
            "cycler==0.11.0\n",
            "cymem==2.0.6\n",
            "Cython==0.29.32\n",
            "daft==0.0.4\n",
            "dask==2022.2.0\n",
            "datascience==0.17.5\n",
            "debugpy==1.0.0\n",
            "decorator==4.4.2\n",
            "defusedxml==0.7.1\n",
            "descartes==1.1.0\n",
            "dill==0.3.5.1\n",
            "distributed==2022.2.0\n",
            "dlib==19.24.0\n",
            "dm-tree==0.1.7\n",
            "docutils==0.17.1\n",
            "dopamine-rl==1.0.5\n",
            "earthengine-api==0.1.326\n",
            "easydict==1.10\n",
            "ecos==2.0.10\n",
            "editdistance==0.5.3\n",
            "en-core-web-sm @ https://github.com/explosion/spacy-models/releases/download/en_core_web_sm-3.4.0/en_core_web_sm-3.4.0-py3-none-any.whl\n",
            "entrypoints==0.4\n",
            "ephem==4.1.3\n",
            "et-xmlfile==1.1.0\n",
            "etils==0.8.0\n",
            "etuples==0.3.8\n",
            "fa2==0.3.5\n",
            "fastai==2.7.9\n",
            "fastcore==1.5.27\n",
            "fastdownload==0.0.7\n",
            "fastdtw==0.3.4\n",
            "fastjsonschema==2.16.2\n",
            "fastprogress==1.0.3\n",
            "fastrlock==0.8\n",
            "feather-format==0.4.1\n",
            "filelock==3.8.0\n",
            "firebase-admin==4.4.0\n",
            "fix-yahoo-finance==0.0.22\n",
            "Flask==1.1.4\n",
            "flatbuffers==22.9.24\n",
            "folium==0.12.1.post1\n",
            "frozenlist==1.3.1\n",
            "fsspec==2022.8.2\n",
            "future==0.16.0\n",
            "gast==0.5.3\n",
            "GDAL==2.2.2\n",
            "gdown==4.4.0\n",
            "gensim==3.6.0\n",
            "geographiclib==1.52\n",
            "geopy==1.17.0\n",
            "gin-config==0.5.0\n",
            "glob2==0.7\n",
            "google==2.0.3\n",
            "google-api-core==1.31.6\n",
            "google-api-python-client==1.12.11\n",
            "google-auth==1.35.0\n",
            "google-auth-httplib2==0.0.4\n",
            "google-auth-oauthlib==0.4.6\n",
            "google-cloud-bigquery==1.21.0\n",
            "google-cloud-bigquery-storage==1.1.2\n",
            "google-cloud-core==1.0.3\n",
            "google-cloud-datastore==1.8.0\n",
            "google-cloud-firestore==1.7.0\n",
            "google-cloud-language==1.2.0\n",
            "google-cloud-storage==1.18.1\n",
            "google-cloud-translate==1.5.0\n",
            "google-colab @ file:///colabtools/dist/google-colab-1.0.0.tar.gz\n",
            "google-pasta==0.2.0\n",
            "google-resumable-media==0.4.1\n",
            "googleapis-common-protos==1.56.4\n",
            "googledrivedownloader==0.4\n",
            "graphviz==0.10.1\n",
            "greenlet==1.1.3\n",
            "grpcio==1.49.1\n",
            "gspread==3.4.2\n",
            "gspread-dataframe==3.0.8\n",
            "gym==0.25.2\n",
            "gym-notices==0.0.8\n",
            "h5py==3.1.0\n",
            "HeapDict==1.0.1\n",
            "hijri-converter==2.2.4\n",
            "holidays==0.16\n",
            "holoviews==1.14.9\n",
            "html5lib==1.0.1\n",
            "httpimport==0.5.18\n",
            "httplib2==0.17.4\n",
            "httplib2shim==0.0.3\n",
            "httpstan==4.6.1\n",
            "humanize==0.5.1\n",
            "hyperopt==0.1.2\n",
            "idna==2.10\n",
            "imageio==2.9.0\n",
            "imagesize==1.4.1\n",
            "imbalanced-learn==0.8.1\n",
            "imblearn==0.0\n",
            "imgaug==0.4.0\n",
            "importlib-metadata==5.0.0\n",
            "importlib-resources==5.9.0\n",
            "imutils==0.5.4\n",
            "inflect==2.1.0\n",
            "intel-openmp==2022.2.0\n",
            "intervaltree==2.1.0\n",
            "ipykernel==5.3.4\n",
            "ipython==7.9.0\n",
            "ipython-genutils==0.2.0\n",
            "ipython-sql==0.3.9\n",
            "ipywidgets==7.7.1\n",
            "itsdangerous==1.1.0\n",
            "jax==0.3.21\n",
            "jaxlib @ https://storage.googleapis.com/jax-releases/cuda11/jaxlib-0.3.20+cuda11.cudnn805-cp37-cp37m-manylinux2014_x86_64.whl\n",
            "jieba==0.42.1\n",
            "Jinja2==2.11.3\n",
            "joblib==1.2.0\n",
            "jpeg4py==0.1.4\n",
            "jsonschema==4.3.3\n",
            "jupyter-client==6.1.12\n",
            "jupyter-console==6.1.0\n",
            "jupyter-core==4.11.1\n",
            "jupyterlab-widgets==3.0.3\n",
            "kaggle==1.5.12\n",
            "kapre==0.3.7\n",
            "keras==2.8.0\n",
            "Keras-Preprocessing==1.1.2\n",
            "keras-vis==0.4.1\n",
            "kiwisolver==1.4.4\n",
            "korean-lunar-calendar==0.3.1\n",
            "langcodes==3.3.0\n",
            "libclang==14.0.6\n",
            "librosa==0.8.1\n",
            "lightgbm==2.2.3\n",
            "llvmlite==0.39.1\n",
            "lmdb==0.99\n",
            "locket==1.0.0\n",
            "logical-unification==0.4.5\n",
            "LunarCalendar==0.0.9\n",
            "lxml==4.9.1\n",
            "Markdown==3.4.1\n",
            "MarkupSafe==2.0.1\n",
            "marshmallow==3.18.0\n",
            "matplotlib==3.2.2\n",
            "matplotlib-venn==0.11.7\n",
            "miniKanren==1.0.3\n",
            "missingno==0.5.1\n",
            "mistune==0.8.4\n",
            "mizani==0.7.3\n",
            "mkl==2019.0\n",
            "mlxtend==0.14.0\n",
            "more-itertools==8.14.0\n",
            "moviepy==0.2.3.5\n",
            "mpmath==1.2.1\n",
            "msgpack==1.0.4\n",
            "multidict==6.0.2\n",
            "multipledispatch==0.6.0\n",
            "multitasking==0.0.11\n",
            "murmurhash==1.0.8\n",
            "music21==5.5.0\n",
            "natsort==5.5.0\n",
            "nbconvert==5.6.1\n",
            "nbformat==5.6.1\n",
            "netCDF4==1.6.1\n",
            "networkx==2.6.3\n",
            "nibabel==3.0.2\n",
            "nltk==3.7\n",
            "notebook==5.3.1\n",
            "numba==0.56.2\n",
            "numexpr==2.8.3\n",
            "numpy==1.21.6\n",
            "oauth2client==4.1.3\n",
            "oauthlib==3.2.1\n",
            "okgrade==0.4.3\n",
            "opencv-contrib-python==4.6.0.66\n",
            "opencv-python==4.6.0.66\n",
            "opencv-python-headless==4.6.0.66\n",
            "openpyxl==3.0.10\n",
            "opt-einsum==3.3.0\n",
            "osqp==0.6.2.post0\n",
            "packaging==21.3\n",
            "palettable==3.3.0\n",
            "pandas==1.3.5\n",
            "pandas-datareader==0.9.0\n",
            "pandas-gbq==0.13.3\n",
            "pandas-profiling==1.4.1\n",
            "pandocfilters==1.5.0\n",
            "panel==0.12.1\n",
            "param==1.12.2\n",
            "parso==0.8.3\n",
            "partd==1.3.0\n",
            "pastel==0.2.1\n",
            "pathlib==1.0.1\n",
            "pathy==0.6.2\n",
            "patsy==0.5.2\n",
            "pep517==0.13.0\n",
            "pexpect==4.8.0\n",
            "pickleshare==0.7.5\n",
            "Pillow==7.1.2\n",
            "pip-tools==6.2.0\n",
            "plotly==5.5.0\n",
            "plotnine==0.8.0\n",
            "pluggy==0.7.1\n",
            "pooch==1.6.0\n",
            "portpicker==1.3.9\n",
            "prefetch-generator==1.0.1\n",
            "preshed==3.0.7\n",
            "prettytable==3.4.1\n",
            "progressbar2==3.38.0\n",
            "promise==2.3\n",
            "prompt-toolkit==2.0.10\n",
            "prophet==1.1.1\n",
            "protobuf==3.17.3\n",
            "psutil==5.4.8\n",
            "psycopg2==2.9.3\n",
            "ptyprocess==0.7.0\n",
            "py==1.11.0\n",
            "pyarrow==6.0.1\n",
            "pyasn1==0.4.8\n",
            "pyasn1-modules==0.2.8\n",
            "pycocotools==2.0.5\n",
            "pycparser==2.21\n",
            "pyct==0.4.8\n",
            "pydantic==1.9.2\n",
            "pydata-google-auth==1.4.0\n",
            "pydot==1.3.0\n",
            "pydot-ng==2.0.0\n",
            "pydotplus==2.0.2\n",
            "PyDrive==1.3.1\n",
            "pyemd==0.5.1\n",
            "pyerfa==2.0.0.1\n",
            "Pygments==2.6.1\n",
            "pygobject==3.26.1\n",
            "pylev==1.4.0\n",
            "pymc==4.1.4\n",
            "PyMeeus==0.5.11\n",
            "pymongo==4.2.0\n",
            "pymystem3==0.2.0\n",
            "PyOpenGL==3.1.6\n",
            "pyparsing==3.0.9\n",
            "pyrsistent==0.18.1\n",
            "pysimdjson==3.2.0\n",
            "pysndfile==1.3.8\n",
            "PySocks==1.7.1\n",
            "pystan==3.3.0\n",
            "pytest==3.6.4\n",
            "python-apt==0.0.0\n",
            "python-chess==0.23.11\n",
            "python-dateutil==2.8.2\n",
            "python-louvain==0.16\n",
            "python-slugify==6.1.2\n",
            "python-utils==3.3.3\n",
            "pytz==2022.4\n",
            "pyviz-comms==2.2.1\n",
            "PyWavelets==1.3.0\n",
            "PyYAML==6.0\n",
            "pyzmq==23.2.1\n",
            "qdldl==0.1.5.post2\n",
            "qudida==0.0.4\n",
            "regex==2022.6.2\n",
            "requests==2.23.0\n",
            "requests-oauthlib==1.3.1\n",
            "resampy==0.4.2\n",
            "rpy2==3.4.5\n",
            "rsa==4.9\n",
            "scikit-image==0.18.3\n",
            "scikit-learn==1.0.2\n",
            "scipy==1.7.3\n",
            "screen-resolution-extra==0.0.0\n",
            "scs==3.2.0\n",
            "seaborn==0.11.2\n",
            "Send2Trash==1.8.0\n",
            "setuptools-git==1.2\n",
            "Shapely==1.8.4\n",
            "six==1.15.0\n",
            "sklearn-pandas==1.8.0\n",
            "smart-open==5.2.1\n",
            "snowballstemmer==2.2.0\n",
            "sortedcontainers==2.4.0\n",
            "soundfile==0.11.0\n",
            "spacy==3.4.1\n",
            "spacy-legacy==3.0.10\n",
            "spacy-loggers==1.0.3\n",
            "Sphinx==1.8.6\n",
            "sphinxcontrib-serializinghtml==1.1.5\n",
            "sphinxcontrib-websupport==1.2.4\n",
            "SQLAlchemy==1.4.41\n",
            "sqlparse==0.4.3\n",
            "srsly==2.4.4\n",
            "statsmodels==0.12.2\n",
            "sympy==1.7.1\n",
            "tables==3.7.0\n",
            "tabulate==0.8.10\n",
            "tblib==1.7.0\n",
            "tenacity==8.1.0\n",
            "tensorboard==2.8.0\n",
            "tensorboard-data-server==0.6.1\n",
            "tensorboard-plugin-wit==1.8.1\n",
            "tensorflow==2.8.2+zzzcolab20220929150707\n",
            "tensorflow-datasets==4.6.0\n",
            "tensorflow-estimator==2.8.0\n",
            "tensorflow-gcs-config==2.8.0\n",
            "tensorflow-hub==0.12.0\n",
            "tensorflow-io-gcs-filesystem==0.27.0\n",
            "tensorflow-metadata==1.10.0\n",
            "tensorflow-probability==0.16.0\n",
            "termcolor==2.0.1\n",
            "terminado==0.13.3\n",
            "testpath==0.6.0\n",
            "text-unidecode==1.3\n",
            "textblob==0.15.3\n",
            "thinc==8.1.2\n",
            "threadpoolctl==3.1.0\n",
            "tifffile==2021.11.2\n",
            "toml==0.10.2\n",
            "tomli==2.0.1\n",
            "toolz==0.12.0\n",
            "torch @ https://download.pytorch.org/whl/cu113/torch-1.12.1%2Bcu113-cp37-cp37m-linux_x86_64.whl\n",
            "torchaudio @ https://download.pytorch.org/whl/cu113/torchaudio-0.12.1%2Bcu113-cp37-cp37m-linux_x86_64.whl\n",
            "torchsummary==1.5.1\n",
            "torchtext==0.13.1\n",
            "torchvision @ https://download.pytorch.org/whl/cu113/torchvision-0.13.1%2Bcu113-cp37-cp37m-linux_x86_64.whl\n",
            "tornado==5.1.1\n",
            "tqdm==4.64.1\n",
            "traitlets==5.1.1\n",
            "tweepy==3.10.0\n",
            "typeguard==2.7.1\n",
            "typer==0.4.2\n",
            "typing-extensions==4.1.1\n",
            "tzlocal==1.5.1\n",
            "ujson==5.5.0\n",
            "uritemplate==3.0.1\n",
            "urllib3==1.24.3\n",
            "vega-datasets==0.9.0\n",
            "wasabi==0.10.1\n",
            "wcwidth==0.2.5\n",
            "webargs==8.2.0\n",
            "webencodings==0.5.1\n",
            "Werkzeug==1.0.1\n",
            "widgetsnbextension==3.6.1\n",
            "wordcloud==1.8.2.2\n",
            "wrapt==1.14.1\n",
            "xarray==0.20.2\n",
            "xarray-einstats==0.2.2\n",
            "xgboost==0.90\n",
            "xkit==0.0.0\n",
            "xlrd==1.1.0\n",
            "xlwt==1.3.0\n",
            "yarl==1.8.1\n",
            "yellowbrick==1.5\n",
            "zict==2.2.0\n",
            "zipp==3.8.1\n",
            "Looking in indexes: https://pypi.org/simple, https://us-python.pkg.dev/colab-wheels/public/simple/\n",
            "Requirement already satisfied: numpy in /usr/local/lib/python3.7/dist-packages (1.21.6)\n",
            "Looking in indexes: https://pypi.org/simple, https://us-python.pkg.dev/colab-wheels/public/simple/\n",
            "Requirement already satisfied: pandas in /usr/local/lib/python3.7/dist-packages (1.3.5)\n",
            "Requirement already satisfied: pytz>=2017.3 in /usr/local/lib/python3.7/dist-packages (from pandas) (2022.4)\n",
            "Requirement already satisfied: numpy>=1.17.3 in /usr/local/lib/python3.7/dist-packages (from pandas) (1.21.6)\n",
            "Requirement already satisfied: python-dateutil>=2.7.3 in /usr/local/lib/python3.7/dist-packages (from pandas) (2.8.2)\n",
            "Requirement already satisfied: six>=1.5 in /usr/local/lib/python3.7/dist-packages (from python-dateutil>=2.7.3->pandas) (1.15.0)\n",
            "Looking in indexes: https://pypi.org/simple, https://us-python.pkg.dev/colab-wheels/public/simple/\n",
            "Requirement already satisfied: matplotlib in /usr/local/lib/python3.7/dist-packages (3.2.2)\n",
            "Requirement already satisfied: pyparsing!=2.0.4,!=2.1.2,!=2.1.6,>=2.0.1 in /usr/local/lib/python3.7/dist-packages (from matplotlib) (3.0.9)\n",
            "Requirement already satisfied: python-dateutil>=2.1 in /usr/local/lib/python3.7/dist-packages (from matplotlib) (2.8.2)\n",
            "Requirement already satisfied: numpy>=1.11 in /usr/local/lib/python3.7/dist-packages (from matplotlib) (1.21.6)\n",
            "Requirement already satisfied: kiwisolver>=1.0.1 in /usr/local/lib/python3.7/dist-packages (from matplotlib) (1.4.4)\n",
            "Requirement already satisfied: cycler>=0.10 in /usr/local/lib/python3.7/dist-packages (from matplotlib) (0.11.0)\n",
            "Requirement already satisfied: typing-extensions in /usr/local/lib/python3.7/dist-packages (from kiwisolver>=1.0.1->matplotlib) (4.1.1)\n",
            "Requirement already satisfied: six>=1.5 in /usr/local/lib/python3.7/dist-packages (from python-dateutil>=2.1->matplotlib) (1.15.0)\n",
            "Looking in indexes: https://pypi.org/simple, https://us-python.pkg.dev/colab-wheels/public/simple/\n",
            "Requirement already satisfied: pydotplus in /usr/local/lib/python3.7/dist-packages (2.0.2)\n",
            "Requirement already satisfied: pyparsing>=2.0.1 in /usr/local/lib/python3.7/dist-packages (from pydotplus) (3.0.9)\n",
            "Looking in indexes: https://pypi.org/simple, https://us-python.pkg.dev/colab-wheels/public/simple/\n",
            "Requirement already satisfied: six in /usr/local/lib/python3.7/dist-packages (1.15.0)\n"
          ]
        }
      ]
    },
    {
      "cell_type": "code",
      "source": [
        "import pandas as pd\n",
        "import numpy as np\n",
        "import matplotlib.pyplot as plt\n",
        "from google.colab import files\n",
        "import math\n",
        "np.random.seed(1337)"
      ],
      "metadata": {
        "id": "azYpl9kdfeDg"
      },
      "execution_count": 27,
      "outputs": []
    },
    {
      "cell_type": "markdown",
      "source": [
        "1. Bad data"
      ],
      "metadata": {
        "id": "0BjU2NftIklH"
      }
    },
    {
      "cell_type": "code",
      "source": [
        "url = 'https://gist.githubusercontent.com/inumanag/713fb4367cacfeab82b07104482e73a7/raw/76a7ab7503476ce8f6a25269dc2755c13bbf5c36/elections.csv'\n",
        "df = pd.read_csv(url)\n",
        "print(df['POPULATION'].str.contains('<bound').value_counts())\n",
        "df.loc[df['POPULATION'].str.contains('<bound'), 'POPULATION'] = 0"
      ],
      "metadata": {
        "id": "DRz4LsQgf4I8",
        "colab": {
          "base_uri": "https://localhost:8080/"
        },
        "outputId": "84997aeb-6b28-4faa-f3fa-863744f5083a"
      },
      "execution_count": 28,
      "outputs": [
        {
          "output_type": "stream",
          "name": "stdout",
          "text": [
            "False    3140\n",
            "True        5\n",
            "Name: POPULATION, dtype: int64\n"
          ]
        }
      ]
    },
    {
      "cell_type": "markdown",
      "source": [
        "From output, we observed there are 5 such cells in the 'POPULATION'."
      ],
      "metadata": {
        "id": "HW16u3WzdcyJ"
      }
    },
    {
      "cell_type": "markdown",
      "source": [
        "2. Split"
      ],
      "metadata": {
        "id": "_6cGE3nizr7G"
      }
    },
    {
      "cell_type": "code",
      "source": [
        "url = 'https://raw.githubusercontent.com/kjhealy/us-county/master/data/census/fips-by-state.csv'\n",
        "df2 = pd.read_csv(url, encoding= 'unicode_escape')\n",
        "\n",
        "df2.columns = df2.columns.str.upper() # This code is to make all df2's features capitalized. Ref: \"https://pandas.pydata.org/docs/reference/api/pandas.Series.str.upper.html\" and \"https://pandas.pydata.org/docs/reference/api/pandas.DataFrame.html\"\n",
        "df3 = pd.merge(df, df2) # Ref: https://pandas.pydata.org/docs/user_guide/merging.html\n",
        "\n",
        "df3 = df3.drop(columns = 'FIPS')"
      ],
      "metadata": {
        "id": "8C1lKAS7zwjg"
      },
      "execution_count": 29,
      "outputs": []
    },
    {
      "cell_type": "markdown",
      "source": [
        "3. Aggregate"
      ],
      "metadata": {
        "id": "nsLRPpKhEJuJ"
      }
    },
    {
      "cell_type": "markdown",
      "source": [
        "3.1 Aggregate all education-related features"
      ],
      "metadata": {
        "id": "MWuhRh9Rj8TB"
      }
    },
    {
      "cell_type": "code",
      "source": [
        "# Aggregate all education-related features\n",
        "df = df3\n",
        "df = df.rename(columns={\"PERCENT OF ADULTS WITH LESS THAN A HIGH SCHOOL DIPLOMA,\": \"LessThenHighSchool\", \"PERCENT OF ADULTS WITH A HIGH SCHOOL DIPLOMA ONLY,\": \"HighSchool\", \"PERCENT OF ADULTS COMPLETING SOME COLLEGE OR ASSOCIATE'S DEGREE,\": \"College\", \"PERCENT OF ADULTS WITH A BACHELOR'S DEGREE OR HIGHER,\": \"Bachelor\"})\n",
        "education_features = [\"LessThenHighSchool\", \"HighSchool\", \"College\", \"Bachelor\"]\n",
        "\n",
        "# Find the third most represented feature\n",
        "temp_df = df[education_features].T.transform(np.sort) # https://pandas.pydata.org/docs/reference/api/pandas.DataFrame.transform.html, https://numpy.org/doc/stable/reference/generated/numpy.sort.html and https://stackoverflow.com/questions/41507040/sort-all-columns-of-a-dataframe\n",
        "third_M_features = temp_df.iloc[1]\n",
        "feature_list = [] # contains every row's third most feature\n",
        "\n",
        "# Next, find the corresponding column name of each row's third most feature, and use the column names as the new features in EDUCATION.\n",
        "for i in range(df.shape[0]):\n",
        "  temp = []\n",
        "  temp_df = df.iloc[i:i+1, 1:5]\n",
        "  temp = list(temp_df.columns[temp_df.loc[i].isin([third_M_features[i]])])\n",
        "  feature_list.append(str(temp[0]))\n",
        "df['EDUCATION'] = feature_list\n",
        "df = df.drop(columns = education_features)"
      ],
      "metadata": {
        "id": "vjbMtQSEg_r1"
      },
      "execution_count": 30,
      "outputs": []
    },
    {
      "cell_type": "markdown",
      "source": [
        "3.2 Aggregate all religion-based features"
      ],
      "metadata": {
        "id": "GMtkTJhFkC78"
      }
    },
    {
      "cell_type": "code",
      "source": [
        "# Aggregate all religion-based features\n",
        "temp_df = df.iloc[0:, 3:20] # narrow down the dataframe\n",
        "third_M_features = temp_df.T.transform(np.sort).iloc[-3] # To find the third most represented feature\n",
        "feature_list = [] # contains every row's third most feature\n",
        "\n",
        "# Next, find the corresponding column name of each row's third most feature, and use the column names as the new features in RELIGION.\n",
        "for i in range(df.shape[0]):\n",
        "  temp = []\n",
        "  temp_df = df.iloc[i:i+1, 3:20]\n",
        "  temp = list(temp_df.columns[temp_df.loc[i].isin([third_M_features[i]])])\n",
        "  feature_list.append(str(temp[0]))\n",
        "df['RELIGION'] = feature_list\n",
        "df = df.drop(columns = ['AMISH', 'BUDDHIST', 'CATHOLIC', 'CHRISTIAN GENERIC', 'EASTERN ORTHODOX', 'HINDU', 'JEWISH', 'MAINLINE CHRISTIAN', 'MORMON', 'MUSLIM', 'NON-CATHOLIC CHRISTIAN', 'OTHER', 'OTHER CHRISTIAN', 'OTHER MISC', 'PENTECOSTAL / CHARISMATIC', 'PROTESTANT DENOMINATION', 'ZOROASTRIAN'])"
      ],
      "metadata": {
        "id": "PUckPMl-EKfv"
      },
      "execution_count": 31,
      "outputs": []
    },
    {
      "cell_type": "markdown",
      "source": [
        "3.3 Aggregate all age-related features"
      ],
      "metadata": {
        "id": "4pATF4UVkFzw"
      }
    },
    {
      "cell_type": "code",
      "source": [
        "# Aggregate all age-related features\n",
        "# obtain the dataframe for AGE OLD (55 - 85+ years of age)\n",
        "df_old = df.iloc[0:, 28:35]\n",
        "# obtain the dataframe for AGE YOUNG (0 - 24 years of age)\n",
        "df_young = df.iloc[0:, 17:22]\n",
        "# obtain the dataframe for AGE ADULT (25 - 54 years of age)\n",
        "df_adult = df.iloc[0:, 22:28]\n",
        "\n",
        "# aggregate all features into a single numerical feature: AGE OLD\n",
        "df_old = df_old.apply(np.sum, axis=1) \n",
        "df['AGE OLD'] = df_old\n",
        "\n",
        "# aggregate all features into a single numerical feature: AGE YOUNG\n",
        "df_young = df_young.apply(np.sum, axis=1) \n",
        "df['AGE YOUNG'] = df_young\n",
        "\n",
        "# aggregate all features into a single numerical feature: AGE ADULT\n",
        "df_adult = df_adult.apply(np.sum, axis=1) \n",
        "df['AGE ADULT'] = df_adult\n",
        "\n",
        "df = df.drop(columns = ['0-4 RATE',  '5-9 RATE',  '10-14 RATE',  '15-19 RATE',  '20-24 RATE',  '25-29 RATE',  '30-34 RATE',  '35-39 RATE',  '40-44 RATE',  '45-49 RATE',  '50-54 RATE',  '55-59 RATE',  '60-64 RATE',  '65-69 RATE',  '70-74 RATE',  '75-79 RATE',  '80-84 RATE',  '85+ RATE'])\n"
      ],
      "metadata": {
        "id": "CU6VmysJ90VW"
      },
      "execution_count": 32,
      "outputs": []
    },
    {
      "cell_type": "markdown",
      "source": [
        "3.4 Aggregate different ethnic and racial groups"
      ],
      "metadata": {
        "id": "z_ikZ4dOkOKf"
      }
    },
    {
      "cell_type": "code",
      "source": [
        "# Aggregate different ethnic and racial groups\n",
        "female_columns = ['WHITE FEMALE RATE', 'BLACK FEMALE RATE', 'NATIVE AMERICAN FEMALE RATE', 'ASIAN FEMALE RATE', 'HAWAIIAN PACIFIC FEMALE RATE', 'MULTI FEMALE RATE']\n",
        "male_columns = ['WHITE MALE RATE', 'BLACK MALE RATE', 'NATIVE AMERICAN MALE RATE', 'ASIAN MALE RATE', 'HAWAIIAN PACIFIC MALE RATE', 'MULTI MALE RATE']\n",
        "df_female = df[female_columns]\n",
        "df_male = df[male_columns]\n",
        "\n",
        "# Find the second most represented feature\n",
        "temp_df_female = df_female.T.transform(np.sort)\n",
        "temp_df_male = df_male.T.transform(np.sort)\n",
        "second_M_female_features = temp_df_female.iloc[-2]\n",
        "second_M_male_features = temp_df_male.iloc[-2]\n",
        "\n",
        "female_feature_list = [] # contains every row's second most feature\n",
        "male_feature_list = []\n",
        "\n",
        "# Next, find the corresponding column name of each row's seconf most feature, and use the column names as the new features in ETHNIC MALE or ETHNIC FEMALE.\n",
        "for i in range(df.shape[0]):\n",
        "  temp = []\n",
        "  temp_df_female = df_female.iloc[i:i+1, :]\n",
        "  temp_df_male = df_male.iloc[i:i+1, :]\n",
        "  \n",
        "  temp = list(temp_df_female.columns[temp_df_female.loc[i].isin([second_M_female_features[i]])])\n",
        "  female_feature_list.append(str(temp[0]))\n",
        "\n",
        "  temp = list(temp_df_male.columns[temp_df_male.loc[i].isin([second_M_male_features[i]])])\n",
        "  male_feature_list.append(str(temp[0]))\n",
        "df['ETHNIC FEMALE'] = [i.replace(\" RATE\", \"\") for i in female_feature_list]\n",
        "df['ETHNIC MALE'] = [i.replace(\" RATE\", \"\") for i in male_feature_list]\n",
        "df = df.drop(columns = female_columns)\n",
        "df = df.drop(columns = male_columns)\n",
        "df = df.drop(columns = ['WHITE RATE', 'BLACK RATE', 'NATIVE AMERICAN RATE', 'HAWAIIAN PACIFIC RATE', 'MULTI RATE'])\n"
      ],
      "metadata": {
        "id": "o5lJBvRX9Qdi"
      },
      "execution_count": 33,
      "outputs": []
    },
    {
      "cell_type": "markdown",
      "source": [
        "3.5 Remove some features"
      ],
      "metadata": {
        "id": "Ast8lC1lkRoi"
      }
    },
    {
      "cell_type": "code",
      "source": [
        "# Remove some features\n",
        "df = df.drop(columns=['POVERTY UNDER 18 PCT', 'AGE TOTAL POP'])"
      ],
      "metadata": {
        "id": "0Us94AhibdwC"
      },
      "execution_count": 34,
      "outputs": []
    },
    {
      "cell_type": "markdown",
      "source": [
        "4. Rename"
      ],
      "metadata": {
        "id": "Bw3nsCLjNU5R"
      }
    },
    {
      "cell_type": "code",
      "source": [
        "# snake case renaming\n",
        "df.columns = df.columns.str.replace(\" \", \"_\").str.lower()\n",
        "df = df.rename(columns={\"name\": \"county\"})"
      ],
      "metadata": {
        "id": "V19PH7SmNGFY"
      },
      "execution_count": 35,
      "outputs": []
    },
    {
      "cell_type": "markdown",
      "source": [
        "5. Normalize"
      ],
      "metadata": {
        "id": "Rqvwr-Q-QnXx"
      }
    },
    {
      "cell_type": "markdown",
      "source": [
        "5.1 z~score normalization"
      ],
      "metadata": {
        "id": "AmHPohGwkenk"
      }
    },
    {
      "cell_type": "code",
      "source": [
        "# X = (X − μ)/σ\n",
        "df['population'] = df['population'].astype('int') # cast string to int for every feature in population\n",
        "\n",
        "normalization_list=['pop_estimate', 'per_capita_inc', 'population', 'med_hhinc', 'area_in_square_miles_-_total_area', 'density_per_square_mile_of_land_area_-_population']\n",
        "\n",
        "for i in normalization_list:\n",
        "  mu = df[i].mean(axis=0)\n",
        "  sigma = df[i].std(axis=0)\n",
        "  df[i] = df[i].apply(lambda x: (x - mu) / sigma)\n"
      ],
      "metadata": {
        "id": "fsr1AtBmQmND"
      },
      "execution_count": 36,
      "outputs": []
    },
    {
      "cell_type": "markdown",
      "source": [
        "5.2 0-1 scale"
      ],
      "metadata": {
        "id": "0hQMP6uokjcH"
      }
    },
    {
      "cell_type": "code",
      "source": [
        "# 0-1 scale\n",
        "scale_list = ['unemployment_rate', 'poverty_all_ages_pct', 'deep_pov_all', 'deep_pov_children']\n",
        "\n",
        "for i in scale_list:\n",
        "  df[i] = df[i].apply(lambda x: x/100)"
      ],
      "metadata": {
        "id": "jIookeqQz9cr"
      },
      "execution_count": 37,
      "outputs": []
    },
    {
      "cell_type": "markdown",
      "source": [
        "6. Summary"
      ],
      "metadata": {
        "id": "ApwpFsMI2Hao"
      }
    },
    {
      "cell_type": "markdown",
      "source": [
        "6.1 Summary of pop_estimate and population features"
      ],
      "metadata": {
        "id": "yWVrd32Nkqfr"
      }
    },
    {
      "cell_type": "code",
      "source": [
        "# Summary of pop_estimate and population features\n",
        "print(\"The mean of pop_estimate:\", df['pop_estimate'].mean(axis=0))\n",
        "print(\"The standard deviation of pop_estimate:\", df['pop_estimate'].std(axis=0))\n",
        "print('-------------------------------------------------------------------------')\n",
        "print(\"The mean of population:\", df['population'].mean(axis=0))\n",
        "print(\"The standard deviation of population:\", df['population'].std(axis=0))\n",
        "corr_score = df['pop_estimate'].corr(df['population'])\n",
        "print(\"population and pop_estimate has the correlation score :\", corr_score)\n",
        "if corr_score > 0.9:\n",
        "  df = df.drop(columns = ['pop_estimate'])"
      ],
      "metadata": {
        "id": "mV-IqB6_2Fpo",
        "colab": {
          "base_uri": "https://localhost:8080/"
        },
        "outputId": "647579ce-5147-4200-eafa-3d2e71cfb200"
      },
      "execution_count": 38,
      "outputs": [
        {
          "output_type": "stream",
          "name": "stdout",
          "text": [
            "The mean of pop_estimate: 3.394312431975001e-18\n",
            "The standard deviation of pop_estimate: 0.9999999999999999\n",
            "-------------------------------------------------------------------------\n",
            "The mean of population: 2.2628749546500005e-18\n",
            "The standard deviation of population: 1.0\n",
            "population and pop_estimate has the correlation score : 0.9974332586878153\n"
          ]
        }
      ]
    },
    {
      "cell_type": "markdown",
      "source": [
        "Summary:\n",
        "\n",
        "After z-score normalization, 'pop_estimate' has a mean close to 0, and a standard deviation close to 1. \n",
        "\n",
        "'population' has a mean close to 0, and a standard deviation of 1 as well. \n",
        "\n",
        "'population' and 'pop_estimate' has the correlation score of 0.9915591351404104( > 0.9). Hence, they are correlated. We drop the pop_estimate feature since the correlation score above 0.9"
      ],
      "metadata": {
        "id": "mRFjnvxA5EZs"
      }
    },
    {
      "cell_type": "markdown",
      "source": [
        "6.2 Summary of voter_turnout_rate and unemployment_rate features"
      ],
      "metadata": {
        "id": "Hrm7cRDElzeo"
      }
    },
    {
      "cell_type": "code",
      "source": [
        "# Summary of voter_turnout_rate and unemployment_rate features\n",
        "print(\"The median of voter_turnout_rate:\", df['voter_turnout_rate'].median(axis=0))\n",
        "print(\"The quartiles of voter_turnout_rate:\\nQ1(0.25) =\", df['voter_turnout_rate'].quantile(q=0.25), '\\nQ2(0.50) =', df['voter_turnout_rate'].quantile(q=0.50), '\\nQ3(0.75) =', df['voter_turnout_rate'].quantile(q=0.75))\n",
        "print(\"The IQR of voter_turnout_rate:\", df['voter_turnout_rate'].quantile(q=0.75) - df['voter_turnout_rate'].quantile(q=0.25))\n",
        "print('-------------------------------------------------------------------------')\n",
        "print(\"The median of unemployment_rate:\", df['unemployment_rate'].median(axis=0))\n",
        "print(\"The quartiles of unemployment_rate:\\nQ1(0.25) =\", df['unemployment_rate'].quantile(q=0.25), '\\nQ2(0.50) =', df['unemployment_rate'].quantile(q=0.50), '\\nQ3(0.75) =', df['unemployment_rate'].quantile(q=0.75))\n",
        "print(\"The IQR of unemployment_rate:\", df['unemployment_rate'].quantile(q=0.75) - df['unemployment_rate'].quantile(q=0.25))"
      ],
      "metadata": {
        "id": "6phwXBKsA9pw",
        "colab": {
          "base_uri": "https://localhost:8080/"
        },
        "outputId": "a57c14de-a5ea-4fe6-a4c8-5f895e68da5d"
      },
      "execution_count": 39,
      "outputs": [
        {
          "output_type": "stream",
          "name": "stdout",
          "text": [
            "The median of voter_turnout_rate: 0.437952565\n",
            "The quartiles of voter_turnout_rate:\n",
            "Q1(0.25) = 0.38483760175 \n",
            "Q2(0.50) = 0.437952565 \n",
            "Q3(0.75) = 0.4916421425\n",
            "The IQR of voter_turnout_rate: 0.10680454075000001\n",
            "-------------------------------------------------------------------------\n",
            "The median of unemployment_rate: 0.053\n",
            "The quartiles of unemployment_rate:\n",
            "Q1(0.25) = 0.042 \n",
            "Q2(0.50) = 0.053 \n",
            "Q3(0.75) = 0.065\n",
            "The IQR of unemployment_rate: 0.023\n"
          ]
        }
      ]
    },
    {
      "cell_type": "markdown",
      "source": [
        "Summary:\n",
        "\n",
        "'voter_turnout_rate' has a median = 0.44 and Q1 = 0.38, Q2 = 0.44, Q3 =0.49. The IQR of 'voter_turnout_rate' is Q3 - Q1 = 0.11.\n",
        "\n",
        "'unemployment_rate' has a median = 0.053 and Q1 = 0.042, Q2 = 0.053, Q3 =0.065. The IQR of 'unemployment_rate' is Q3 - Q1 = 0.023."
      ],
      "metadata": {
        "id": "u2AOqhAwJDw8"
      }
    },
    {
      "cell_type": "markdown",
      "source": [
        "6.3 Modes of religion and ethnic female features"
      ],
      "metadata": {
        "id": "Vu-nE18El9Kl"
      }
    },
    {
      "cell_type": "code",
      "source": [
        "# Modes of religion and ethnic female features\n",
        "print(\"Summary:\")\n",
        "print(\"The mode of the 'religion' feature is:\", list(df['religion'].mode())[0])\n",
        "print(\"The mode of the 'ethnic_female' feature is:\", list(df['ethnic_female'].mode())[0])"
      ],
      "metadata": {
        "id": "cKC_VOvoKMnP",
        "colab": {
          "base_uri": "https://localhost:8080/"
        },
        "outputId": "1717851e-c221-4d7a-e1c8-11f278b4794f"
      },
      "execution_count": 40,
      "outputs": [
        {
          "output_type": "stream",
          "name": "stdout",
          "text": [
            "Summary:\n",
            "The mode of the 'religion' feature is: MAINLINE CHRISTIAN\n",
            "The mode of the 'ethnic_female' feature is: BLACK FEMALE\n"
          ]
        }
      ]
    },
    {
      "cell_type": "markdown",
      "source": [
        "Summary:\n",
        "\n",
        "The mode of the 'religion' feature is: MAINLINE CHRISTIAN\n",
        "\n",
        "The mode of the 'ethnic_female' feature is: BLACK FEMALE"
      ],
      "metadata": {
        "id": "lb-bOIYwmBp4"
      }
    },
    {
      "cell_type": "markdown",
      "source": [
        "7. Visualize"
      ],
      "metadata": {
        "id": "MbSMt8TKO-7F"
      }
    },
    {
      "cell_type": "markdown",
      "source": [
        "7.1 Histograms"
      ],
      "metadata": {
        "id": "K0o47JsGmSKh"
      }
    },
    {
      "cell_type": "markdown",
      "source": [
        "religion histogram"
      ],
      "metadata": {
        "id": "dLRSeX_VmZSv"
      }
    },
    {
      "cell_type": "code",
      "source": [
        "# religion histogram\n",
        "df['religion'].value_counts().plot.bar(color='orange', figsize=[6,6])\n",
        "plt.xlabel('Religions')\n",
        "plt.ylabel('Total Number of Each Religion')\n",
        "plt.show()"
      ],
      "metadata": {
        "id": "BaS5rN-fO7eP",
        "colab": {
          "base_uri": "https://localhost:8080/",
          "height": 526
        },
        "outputId": "a94e9b42-e2a7-47e2-ac09-ca8113cc935b"
      },
      "execution_count": 41,
      "outputs": [
        {
          "output_type": "display_data",
          "data": {
            "text/plain": [
              "<Figure size 432x432 with 1 Axes>"
            ],
            "image/png": "[encoded data removed]"
          },
          "metadata": {
            "needs_background": "light"
          }
        }
      ]
    },
    {
      "cell_type": "markdown",
      "source": [
        "ethnic_male histogram"
      ],
      "metadata": {
        "id": "kCz_gLXImeQP"
      }
    },
    {
      "cell_type": "code",
      "source": [
        "# ethnic_male histogram\n",
        "plt.hist(df['ethnic_male'], bins = 10, edgecolor='black', linewidth=1.0, color='orange')\n",
        "plt.xlabel('Ethnic Male')\n",
        "plt.ylabel('Total Number of Each Ethnic Male')\n",
        "plt.xticks(rotation='vertical')\n",
        "plt.show()"
      ],
      "metadata": {
        "id": "nvrWADSzvwry",
        "colab": {
          "base_uri": "https://localhost:8080/",
          "height": 391
        },
        "outputId": "29b896b5-6c12-424c-8e7e-85228dc81404"
      },
      "execution_count": 42,
      "outputs": [
        {
          "output_type": "display_data",
          "data": {
            "text/plain": [
              "<Figure size 432x288 with 1 Axes>"
            ],
            "image/png": "[encoded data removed]"
          },
          "metadata": {
            "needs_background": "light"
          }
        }
      ]
    },
    {
      "cell_type": "markdown",
      "source": [
        "ethnic_female histogram"
      ],
      "metadata": {
        "id": "-lmUr2bzmhe3"
      }
    },
    {
      "cell_type": "code",
      "source": [
        "# ethnic_female histogram\n",
        "plt.hist(df['ethnic_female'], bins = 10, edgecolor='black', linewidth=1.0, color='orange')\n",
        "plt.xlabel('Ethnic Female')\n",
        "plt.ylabel('Total Number of Each Ethnic Female')\n",
        "plt.xticks(rotation='vertical')\n",
        "plt.show()"
      ],
      "metadata": {
        "id": "y9IWl_ubwpAK",
        "colab": {
          "base_uri": "https://localhost:8080/",
          "height": 403
        },
        "outputId": "de95dff0-602e-4638-9253-a334ad6bccc2"
      },
      "execution_count": 43,
      "outputs": [
        {
          "output_type": "display_data",
          "data": {
            "text/plain": [
              "<Figure size 432x288 with 1 Axes>"
            ],
            "image/png": "[encoded data removed]"
          },
          "metadata": {
            "needs_background": "light"
          }
        }
      ]
    },
    {
      "cell_type": "markdown",
      "source": [
        "education histogram"
      ],
      "metadata": {
        "id": "9gA6MApdmoCh"
      }
    },
    {
      "cell_type": "code",
      "source": [
        "# education histogram\n",
        "plt.hist(df['education'], bins = 10, edgecolor='black', linewidth=1.0, color='orange')\n",
        "plt.xlabel('Education')\n",
        "plt.ylabel('Total Number of Each Education Level')\n",
        "plt.xticks(rotation='vertical')\n",
        "plt.show()"
      ],
      "metadata": {
        "id": "gy5bBKm8wpIi",
        "colab": {
          "base_uri": "https://localhost:8080/",
          "height": 375
        },
        "outputId": "c9f6eb6a-99b4-414e-a140-757bc67e72ee"
      },
      "execution_count": 44,
      "outputs": [
        {
          "output_type": "display_data",
          "data": {
            "text/plain": [
              "<Figure size 432x288 with 1 Axes>"
            ],
            "image/png": "[encoded data removed]"
          },
          "metadata": {
            "needs_background": "light"
          }
        }
      ]
    },
    {
      "cell_type": "markdown",
      "source": [
        "7.2 2D Scatter Plot"
      ],
      "metadata": {
        "id": "HGZj1ECxmvRp"
      }
    },
    {
      "cell_type": "code",
      "source": [
        "# 2D scatter plot\n",
        "df.plot(x='area_in_square_miles_-_total_area', y='population', kind='scatter', s=12, figsize=[6,6])\n",
        "plt.xlabel('Total Area')\n",
        "plt.ylabel('Population')\n",
        "plt.show()"
      ],
      "metadata": {
        "id": "RLIBFvmC2rhU",
        "colab": {
          "base_uri": "https://localhost:8080/",
          "height": 388
        },
        "outputId": "9633e587-5cf4-41db-b99b-dfff1af5cff9"
      },
      "execution_count": 45,
      "outputs": [
        {
          "output_type": "display_data",
          "data": {
            "text/plain": [
              "<Figure size 432x432 with 1 Axes>"
            ],
            "image/png": "[encoded data removed]"
          },
          "metadata": {
            "needs_background": "light"
          }
        }
      ]
    },
    {
      "cell_type": "markdown",
      "source": [
        "7.3 Box Plot"
      ],
      "metadata": {
        "id": "sn5oyCzBm4UC"
      }
    },
    {
      "cell_type": "markdown",
      "source": [
        "Box plot of unemployment_rate"
      ],
      "metadata": {
        "id": "gJ89ygWtnABt"
      }
    },
    {
      "cell_type": "code",
      "source": [
        "# Box plot of unemployment_rate\n",
        "df.boxplot(column = 'unemployment_rate', figsize=[6,6])"
      ],
      "metadata": {
        "id": "IgvhH5fp7Nrt",
        "colab": {
          "base_uri": "https://localhost:8080/",
          "height": 395
        },
        "outputId": "0267e33d-ef56-4f61-e5a4-1f1502cb0abb"
      },
      "execution_count": 46,
      "outputs": [
        {
          "output_type": "execute_result",
          "data": {
            "text/plain": [
              "<matplotlib.axes._subplots.AxesSubplot at 0x7ff942634550>"
            ]
          },
          "metadata": {},
          "execution_count": 46
        },
        {
          "output_type": "display_data",
          "data": {
            "text/plain": [
              "<Figure size 432x432 with 1 Axes>"
            ],
            "image/png": "[encoded data removed]"
          },
          "metadata": {
            "needs_background": "light"
          }
        }
      ]
    },
    {
      "cell_type": "markdown",
      "source": [
        "Box plot of voter_turnout_rate"
      ],
      "metadata": {
        "id": "GdAnjPwBnEoB"
      }
    },
    {
      "cell_type": "code",
      "source": [
        "# Box plot of voter_turnout_rate\n",
        "temp = list(df['voter_turnout_rate']) # use temp to save the orginal samples since we only normalize voter_turnout_rate for this subquestion.\n",
        " # normalize voter_turnout_rate\n",
        "mu = df['voter_turnout_rate'].mean(axis=0)\n",
        "sigma = df['voter_turnout_rate'].std(axis=0)\n",
        "df['voter_turnout_rate'] = df['voter_turnout_rate'].apply(lambda x: (x - mu) / sigma)\n",
        "# plot a boxplot\n",
        "df.boxplot(column = 'voter_turnout_rate', figsize=[6,12])\n",
        "# restore samples\n",
        "df['voter_turnout_rate'] = temp"
      ],
      "metadata": {
        "id": "vDpACu5A-5Kv",
        "colab": {
          "base_uri": "https://localhost:8080/",
          "height": 701
        },
        "outputId": "ec42bea3-be22-451a-b829-b2ab7aa38dcd"
      },
      "execution_count": 47,
      "outputs": [
        {
          "output_type": "display_data",
          "data": {
            "text/plain": [
              "<Figure size 432x864 with 1 Axes>"
            ],
            "image/png": "[encoded data removed]"
          },
          "metadata": {
            "needs_background": "light"
          }
        }
      ]
    },
    {
      "cell_type": "markdown",
      "source": [
        "8. Conflict"
      ],
      "metadata": {
        "id": "02at7-Qm2iEn"
      }
    },
    {
      "cell_type": "markdown",
      "source": [
        "Yes, there are contradicting and nonsensical samples. \n",
        "\n",
        "1. In the 'population' feature there are 5 values contain \"<bound method...\" which has large data size compare to other data. Also, these 5 values are meaningless to us, since the rest of the values have integer datatype which is very different from them.\n",
        "\n",
        "2. 'ASIAN FEMALE RATE' and 'MULTI FEMALE RATE' features have all values of 0 which is nonsensical.\n",
        "\n",
        "3. '65-69 RATE' and 'ZOROASTRIAN' features also have all values of 0 which is nonsensical.\n",
        "\n",
        "4. For the age rates features '0-4 rate', '5-9 rate', '10-14 rate' and '15-19 rate', all samples under these features are nonsensical samples because the legal voting age in U.S. is 18.\n",
        "\n",
        "I can only find 6 such samples."
      ],
      "metadata": {
        "id": "9A13UZzGCnb5"
      }
    },
    {
      "cell_type": "markdown",
      "source": [
        "9. Labels"
      ],
      "metadata": {
        "id": "Ezv5c-e2PCwG"
      }
    },
    {
      "cell_type": "markdown",
      "source": [
        "I think the name of the label vector is 'democrat'. We will use other features to predict each county support democracy or not."
      ],
      "metadata": {
        "id": "Ib0eGjUrPEjF"
      }
    },
    {
      "cell_type": "markdown",
      "source": [
        "End: Export the result"
      ],
      "metadata": {
        "id": "uJ-RLWyAnjnJ"
      }
    },
    {
      "cell_type": "code",
      "source": [
        "df.to_csv('elections_clean.csv', encoding = 'utf-8-sig') \n",
        "files.download('elections_clean.csv')"
      ],
      "metadata": {
        "colab": {
          "base_uri": "https://localhost:8080/",
          "height": 17
        },
        "id": "1oHDIaW3P1H8",
        "outputId": "951e66b5-850d-4ea2-9ece-7357bfa6fe83"
      },
      "execution_count": 48,
      "outputs": [
        {
          "output_type": "display_data",
          "data": {
            "text/plain": [
              "<IPython.core.display.Javascript object>"
            ],
            "application/javascript": [
              "\n",
              "    async function download(id, filename, size) {\n",
              "      if (!google.colab.kernel.accessAllowed) {\n",
              "        return;\n",
              "      }\n",
              "      const div = document.createElement('div');\n",
              "      const label = document.createElement('label');\n",
              "      label.textContent = `Downloading \"${filename}\": `;\n",
              "      div.appendChild(label);\n",
              "      const progress = document.createElement('progress');\n",
              "      progress.max = size;\n",
              "      div.appendChild(progress);\n",
              "      document.body.appendChild(div);\n",
              "\n",
              "      const buffers = [];\n",
              "      let downloaded = 0;\n",
              "\n",
              "      const channel = await google.colab.kernel.comms.open(id);\n",
              "      // Send a message to notify the kernel that we're ready.\n",
              "      channel.send({})\n",
              "\n",
              "      for await (const message of channel.messages) {\n",
              "        // Send a message to notify the kernel that we're ready.\n",
              "        channel.send({})\n",
              "        if (message.buffers) {\n",
              "          for (const buffer of message.buffers) {\n",
              "            buffers.push(buffer);\n",
              "            downloaded += buffer.byteLength;\n",
              "            progress.value = downloaded;\n",
              "          }\n",
              "        }\n",
              "      }\n",
              "      const blob = new Blob(buffers, {type: 'application/binary'});\n",
              "      const a = document.createElement('a');\n",
              "      a.href = window.URL.createObjectURL(blob);\n",
              "      a.download = filename;\n",
              "      div.appendChild(a);\n",
              "      a.click();\n",
              "      div.remove();\n",
              "    }\n",
              "  "
            ]
          },
          "metadata": {}
        },
        {
          "output_type": "display_data",
          "data": {
            "text/plain": [
              "<IPython.core.display.Javascript object>"
            ],
            "application/javascript": [
              "download(\"download_cd5d2193-623c-4fac-9f49-3bedfce93b8c\", \"elections_clean.csv\", 1068528)"
            ]
          },
          "metadata": {}
        }
      ]
    }
  ]
}