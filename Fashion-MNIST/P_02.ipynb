{
  "cells": [
    {
      "cell_type": "markdown",
      "metadata": {
        "id": "446fiA8q1i1Q"
      },
      "source": [
        "<h1><center>YanP_02</center></h1>\n",
        "\n",
        "\n",
        "<h3 align=\"center\">Nov 22, 2022</h3> "
      ]
    },
    {
      "cell_type": "markdown",
      "metadata": {
        "id": "HzlGx0SM1kub"
      },
      "source": [
        "0.1  Student: Yan, Puwentao (V00031753)\n",
        "## 1 Problem 2"
      ]
    },
    {
      "cell_type": "markdown",
      "metadata": {
        "id": "tmWyJsMx1nH0"
      },
      "source": [
        "1. Lloyd"
      ]
    },
    {
      "cell_type": "code",
      "execution_count": 13,
      "metadata": {
        "id": "eu3d-wunMCr0"
      },
      "outputs": [],
      "source": [
        "import numpy as np\n",
        "import sys\n",
        "from keras.datasets import fashion_mnist\n",
        "from matplotlib import pyplot as plt\n",
        "from sklearn.decomposition import PCA\n",
        "from sklearn.preprocessing import StandardScaler\n",
        "from sklearn.cluster import AgglomerativeClustering\n",
        "from scipy.cluster.hierarchy import dendrogram, linkage\n",
        "import scipy.cluster.hierarchy as shc\n",
        "from sklearn.preprocessing import MinMaxScaler"
      ]
    },
    {
      "cell_type": "code",
      "execution_count": 14,
      "metadata": {
        "id": "BmeIHuql1pFl"
      },
      "outputs": [],
      "source": [
        "_, (x_test, y_test) = fashion_mnist.load_data()\n",
        "np.random.seed(1337)\n",
        "# downsample the dataset\n",
        "y_index = y_test.argsort() # sort labels and return their index\n",
        "x_temp = np.zeros((5000, 28, 28), dtype=int)\n",
        "y_temp = np.zeros((5000, ), dtype=int)\n",
        "for i in range(10):\n",
        "  x_temp[i*500:i*500+500] = x_test[y_index][i*1000:i*1000+500]\n",
        "  y_temp[i*500:i*500+500] = y_test[y_index][i*1000:i*1000+500]\n",
        "x_test = StandardScaler().fit_transform(x_temp.reshape(5000, 784)) # 784 dims\n",
        "#x_test = x_temp\n",
        "y = y_temp.reshape(5000,)\n",
        "\n",
        "d = 30\n",
        "pca = PCA(n_components=d)\n",
        "pca.fit(x_test)\n",
        "\n",
        "components = pca.transform(x_test)\n",
        "x = pca.inverse_transform(components)"
      ]
    },
    {
      "cell_type": "code",
      "execution_count": 18,
      "metadata": {
        "id": "dQ_LQ63AMa5u"
      },
      "outputs": [],
      "source": [
        "# Lloyd this algorithm is inspired by \"https://www.youtube.com/watch?v=vtuH4VRq1AU\"\n",
        "def euclidean_distance(x1, x2):\n",
        "  return np.sqrt(np.sum((x1 - x2) ** 2))\n",
        "\n",
        "def rand_init(n_samples, K):\n",
        "  np.random.seed(1337)\n",
        "  random_index = np.random.choice(n_samples, K, replace=False)\n",
        "  centroids = [[x[i]] for i in random_index] # [[xi]...[xi]...[xi]] K centroids. // This line is inspired by \"https://github.com/patrickloeber/MLfromscratch/blob/master/mlfromscratch/kmeans.py\" line 28\n",
        "  return centroids\n",
        "\n",
        "def plus_init(n_samples, K):\n",
        "  # this algorithm is inspired by https://www.geeksforgeeks.org/ml-k-means-algorithm/\n",
        "  np.random.seed(1337)\n",
        "  centroids = []\n",
        "  # initialize one randomly selected data\n",
        "  centroids.append(x[np.random.choice(5000, 1)])\n",
        "  # find remaining K - 1 centroids\n",
        "  for idx in range(K - 1):\n",
        "    sample_dist = np.zeros((5000))\n",
        "    for index, sample in enumerate(x):\n",
        "      d = 10000\n",
        "      # locate sample to nearest centroid\n",
        "      for i in range(len(centroids)):\n",
        "        temp = euclidean_distance(sample, centroids[i])\n",
        "        d = min(d, temp)\n",
        "      sample_dist[index] = d\n",
        "    # obtain furthest sample as the new centroid\n",
        "    new_centroids = x[np.argmax(sample_dist)] # len(sample_dist) == len(x)\n",
        "    centroids.append(new_centroids)\n",
        "  return centroids\n",
        "\n",
        "def create_clusters(centroids, K):\n",
        "  clusters = [[] for i in range(K)] # K clusters\n",
        "  for index, sample in enumerate(x):\n",
        "    # calculate which cluster the sample belongs to\n",
        "    all_dist = [] # stor the distance of sample to every centroids\n",
        "    for xi in centroids:\n",
        "      all_dist.append(euclidean_distance(sample, xi))\n",
        "    min_idx = np.argmin(all_dist)\n",
        "    clusters[min_idx].append(index) # clusters store the sample index to the nearest cluster\n",
        "  return clusters\n",
        "\n",
        "def update_centroids(clusters, K, n_features):\n",
        "  centroids = np.zeros((K, n_features))\n",
        "  for idx, cluster in enumerate(clusters):\n",
        "    # assign the mean value of all clusters to centroids\n",
        "    ui = np.mean(x[cluster], axis=0)\n",
        "    centroids[idx] = ui\n",
        "  return centroids\n",
        "\n",
        "def test_converge(centroids, new_centroids, K):\n",
        "  state = 0\n",
        "  for i in range(K):\n",
        "    if (centroids[i] != new_centroids[i]).all():\n",
        "      state = 1 # if not converged change state to 1 and return False\n",
        "      break\n",
        "  if state == 0:\n",
        "    return True\n",
        "  return False\n",
        "\n",
        "\n",
        "def llyod(K, n_iters, x, init_tech):\n",
        "  n_samples = x.shape[0]\n",
        "  n_features = x.shape[1]\n",
        "  centroids = []\n",
        "  # initialize centroids randomly\n",
        "  if init_tech == 'rand':\n",
        "    centroids = rand_init(n_samples, K)\n",
        "  else:\n",
        "    centroids = plus_init(n_samples, K)\n",
        "  \n",
        "  for i in range(n_iters):\n",
        "    # Assign samples to closest centroids. clusters = [[indexes], ..., [indexes]]\n",
        "    clusters = create_clusters(centroids, K)\n",
        "    # Calculate new centroids from the clusters\n",
        "    new_centroids = update_centroids(clusters, K, n_features)\n",
        "    # check if clusters have changed\n",
        "    if test_converge(centroids, new_centroids, K):\n",
        "      break\n",
        "\n",
        "  return clusters, new_centroids"
      ]
    },
    {
      "cell_type": "markdown",
      "metadata": {
        "id": "w5Nd1oQ4q0KT"
      },
      "source": [
        "1.1 random initialization"
      ]
    },
    {
      "cell_type": "code",
      "execution_count": 16,
      "metadata": {
        "colab": {
          "base_uri": "https://localhost:8080/",
          "height": 276
        },
        "id": "9jFDYHsXyv4N",
        "outputId": "bb610433-5d67-4c88-c509-62ac08277f2d"
      },
      "outputs": [
        {
          "output_type": "display_data",
          "data": {
            "text/plain": [
              "<Figure size 432x288 with 1 Axes>"
            ],
            "image/png": "[encoded data removed]"
          },
          "metadata": {
            "needs_background": "light"
          }
        }
      ],
      "source": [
        "# Lloyd with random initialization and different K values\n",
        "xplot = []\n",
        "yplot = []\n",
        "for k in range(2,16):\n",
        "  sse = 0\n",
        "  xplot.append(k)\n",
        "  clusters, centroids = llyod(k, 60, x, 'rand')\n",
        "  for i in range(k):\n",
        "    for j in clusters[i]:\n",
        "      sse = sse + np.sum((x[j] - centroids[i])**2)\n",
        "  yplot.append(sse)\n",
        "# plot of the cost\n",
        "plt.plot(xplot, yplot, marker='o')\n",
        "plt.xticks(xplot)\n",
        "plt.show()"
      ]
    },
    {
      "cell_type": "markdown",
      "metadata": {
        "id": "BtXEY_uDVWXJ"
      },
      "source": [
        "From above plot, I chose k=6 since the distortion starts decreasing after 6. Hence, we should use a clusters."
      ]
    },
    {
      "cell_type": "markdown",
      "metadata": {
        "id": "qkUW1WUDq3BK"
      },
      "source": [
        "1.2 k-means++ initialization"
      ]
    },
    {
      "cell_type": "code",
      "execution_count": 19,
      "metadata": {
        "id": "pmaRdnAdz7lc",
        "colab": {
          "base_uri": "https://localhost:8080/",
          "height": 276
        },
        "outputId": "9f728ad9-d152-45db-94fe-2e2c68548079"
      },
      "outputs": [
        {
          "output_type": "display_data",
          "data": {
            "text/plain": [
              "<Figure size 432x288 with 1 Axes>"
            ],
            "image/png": "[encoded data removed]"
          },
          "metadata": {
            "needs_background": "light"
          }
        }
      ],
      "source": [
        "# Lloyd with k-means++ initialization and different K values\n",
        "xplot = []\n",
        "yplot = []\n",
        "for k in range(2,16):\n",
        "  sse = 0\n",
        "  xplot.append(k)\n",
        "  clusters, centroids = llyod(k, 60, x, 'plus')\n",
        "  for i in range(k):\n",
        "    for j in clusters[i]:\n",
        "      sse = sse + np.sum((x[j] - centroids[i])**2)\n",
        "  yplot.append(sse)\n",
        "# plot of the cost\n",
        "plt.plot(xplot, yplot, marker='o')\n",
        "plt.xticks(xplot)\n",
        "plt.show()"
      ]
    },
    {
      "cell_type": "markdown",
      "metadata": {
        "id": "Fv8GdH_uW3CS"
      },
      "source": [
        "From above plot, I chose k=11 since the distortion starts decreasing after 11. Hence, we should use a clusters.\n",
        "\n",
        "There is a fast drop between 13-14 which I am not sure why this happend."
      ]
    },
    {
      "cell_type": "markdown",
      "source": [
        "Summary:\n",
        "\n",
        "The best clustering seems cannot correspond to the true labels very well since I chose some K not equal to 10 and there are 10 true labels.\n",
        "\n",
        "Classes do not always entirely fall within a single cluster. When k = 10, clusters sometime have similiar size, but most of the time I can still obtain a cluster with small size because of the random initialization technique."
      ],
      "metadata": {
        "id": "LOvGHBLkAKM6"
      }
    },
    {
      "cell_type": "markdown",
      "metadata": {
        "id": "eHOIG_B7rGn0"
      },
      "source": [
        "2. Hague"
      ]
    },
    {
      "cell_type": "code",
      "execution_count": null,
      "metadata": {
        "id": "GHct62OuhAIU"
      },
      "outputs": [],
      "source": [
        "scaler = MinMaxScaler()\n",
        "# transform data\n",
        "scaled = scaler.fit_transform(x)"
      ]
    },
    {
      "cell_type": "code",
      "execution_count": null,
      "metadata": {
        "id": "z_CfeIbbrI63",
        "colab": {
          "base_uri": "https://localhost:8080/"
        },
        "outputId": "18072528-12b8-4d4d-ebd3-ce3c1e57c59b"
      },
      "outputs": [
        {
          "output_type": "execute_result",
          "data": {
            "text/plain": [
              "array([0, 0, 0, ..., 0, 0, 0])"
            ]
          },
          "metadata": {},
          "execution_count": 6
        }
      ],
      "source": [
        "# single linkage\n",
        "clusters = AgglomerativeClustering(affinity='euclidean', linkage='single')\n",
        "clusters.fit_predict(scaled)"
      ]
    },
    {
      "cell_type": "code",
      "execution_count": null,
      "metadata": {
        "id": "JwLxAAT2aOoZ",
        "colab": {
          "base_uri": "https://localhost:8080/",
          "height": 447
        },
        "outputId": "83acd990-ba8d-4443-8f0e-837ce566423f"
      },
      "outputs": [
        {
          "output_type": "display_data",
          "data": {
            "text/plain": [
              "<Figure size 720x504 with 1 Axes>"
            ],
            "image/png": "[encoded data removed]"
          },
          "metadata": {
            "needs_background": "light"
          }
        }
      ],
      "source": [
        "z = linkage(scaled, \"single\")\n",
        "plt.figure(figsize = (10, 7))\n",
        "plt.title('dendrogram')\n",
        "dend = dendrogram(z, \n",
        "                  orientation='top', \n",
        "                  distance_sort='descending', \n",
        "                  truncate_mode=\"level\", \n",
        "                  p=9)\n",
        "plt.axhline(y=5, color='b', linestyle='--')\n",
        "plt.show()"
      ]
    },
    {
      "cell_type": "markdown",
      "metadata": {
        "id": "3jItHwFgMi1u"
      },
      "source": [
        "I have two clustering options:\n",
        "1. The reason why I chose this line is because I would like to have 10 clusters.\n",
        "2. I also chose 3 as the optimal number of clusters because the plot has 4 colors."
      ]
    },
    {
      "cell_type": "code",
      "execution_count": null,
      "metadata": {
        "id": "RLdgf_uggbFK",
        "colab": {
          "base_uri": "https://localhost:8080/"
        },
        "outputId": "b450a0f9-382d-4ce1-be42-9c14b3ce604e"
      },
      "outputs": [
        {
          "output_type": "execute_result",
          "data": {
            "text/plain": [
              "array([0, 0, 0, ..., 0, 0, 0])"
            ]
          },
          "metadata": {},
          "execution_count": 8
        }
      ],
      "source": [
        "# average linkage\n",
        "clusters2 = AgglomerativeClustering(affinity='euclidean', linkage='average')\n",
        "clusters2.fit_predict(scaled)"
      ]
    },
    {
      "cell_type": "code",
      "execution_count": null,
      "metadata": {
        "id": "D-Ot3_Jgerv7",
        "colab": {
          "base_uri": "https://localhost:8080/",
          "height": 465
        },
        "outputId": "ea4f7584-3e01-47b5-92b1-6e4a50e7c7fa"
      },
      "outputs": [
        {
          "output_type": "display_data",
          "data": {
            "text/plain": [
              "<Figure size 720x504 with 1 Axes>"
            ],
            "image/png": "[encoded data removed]"
          },
          "metadata": {
            "needs_background": "light"
          }
        }
      ],
      "source": [
        "z = linkage(scaled, \"average\")\n",
        "plt.figure(figsize = (10, 7))\n",
        "plt.title('dendrogram')\n",
        "dend = dendrogram(z, orientation='top', distance_sort='descending', truncate_mode=\"level\", p=6)\n",
        "plt.axhline(y=9.3, color='b', linestyle='--')\n",
        "plt.show()"
      ]
    },
    {
      "cell_type": "markdown",
      "metadata": {
        "id": "4WWQ8EfwPKbE"
      },
      "source": [
        "I chose this line because I observed that the plot has 4 main parts (4341-4091, 209-4752, 13-286, 4077-2111)."
      ]
    },
    {
      "cell_type": "markdown",
      "metadata": {
        "id": "TV2Bj-6dSOt-"
      },
      "source": [
        "Summary:\n",
        "\n",
        "I used single linkage and average linkage, but they failed to predict labels. The clusters don't correspond to the true labels. We can also see this result in above two plots which they don't have a clear pattern of clusters."
      ]
    }
  ],
  "metadata": {
    "colab": {
      "provenance": []
    },
    "kernelspec": {
      "display_name": "Python 3",
      "name": "python3"
    },
    "language_info": {
      "name": "python"
    }
  },
  "nbformat": 4,
  "nbformat_minor": 0
}