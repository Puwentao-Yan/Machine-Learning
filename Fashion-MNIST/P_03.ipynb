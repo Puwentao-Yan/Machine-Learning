{
  "nbformat": 4,
  "nbformat_minor": 0,
  "metadata": {
    "colab": {
      "provenance": []
    },
    "kernelspec": {
      "name": "python3",
      "display_name": "Python 3"
    },
    "language_info": {
      "name": "python"
    }
  },
  "cells": [
    {
      "cell_type": "markdown",
      "source": [
        "<h1><center>YanP_03</center></h1>\n",
        "\n",
        "\n",
        "<h3 align=\"center\">Dec 03, 2022</h3> "
      ],
      "metadata": {
        "id": "8yQUlb43jzsl"
      }
    },
    {
      "cell_type": "markdown",
      "source": [
        "0.1  Student: Yan, Puwentao (V00031753)\n",
        "## 1 Problem 3"
      ],
      "metadata": {
        "id": "z_JiomP2j1QS"
      }
    },
    {
      "cell_type": "markdown",
      "source": [
        "2. Retail"
      ],
      "metadata": {
        "id": "cLcMGRue2nyJ"
      }
    },
    {
      "cell_type": "code",
      "source": [
        "!pip install apyori"
      ],
      "metadata": {
        "colab": {
          "base_uri": "https://localhost:8080/"
        },
        "id": "0ip0EJv163qP",
        "outputId": "03344d5d-7be2-423f-e8ed-43eeb8451701"
      },
      "execution_count": 12,
      "outputs": [
        {
          "output_type": "stream",
          "name": "stdout",
          "text": [
            "Looking in indexes: https://pypi.org/simple, https://us-python.pkg.dev/colab-wheels/public/simple/\n",
            "Requirement already satisfied: apyori in /usr/local/lib/python3.8/dist-packages (1.1.2)\n"
          ]
        }
      ]
    },
    {
      "cell_type": "code",
      "source": [
        "from google.colab import files\n",
        "import pandas as pd\n",
        "from apyori import apriori"
      ],
      "metadata": {
        "id": "vkP9CZj62ywQ"
      },
      "execution_count": 13,
      "outputs": []
    },
    {
      "cell_type": "code",
      "source": [
        "# import online retail dataset from google drive\n",
        "url = 'https://docs.google.com/spreadsheets/d/1f7lGlNubRD1GLENdBFpcr9Kzfb1xfnio/edit?usp=sharing&ouid=102606265901164398510&rtpof=true&sd=true'\n",
        "path = 'https://drive.google.com/uc?export=download&id='+url.split('/')[-2]\n",
        "df = pd.read_excel(path)"
      ],
      "metadata": {
        "id": "ZiWffwUD4MwZ"
      },
      "execution_count": 14,
      "outputs": []
    },
    {
      "cell_type": "markdown",
      "source": [
        "Sorry, I didn't have time to finish problem 3, but I really want to!"
      ],
      "metadata": {
        "id": "QFcncaKL-WZW"
      }
    }
  ]
}